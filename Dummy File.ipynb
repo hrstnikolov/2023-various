{
 "cells": [
  {
   "cell_type": "code",
   "execution_count": 1,
   "id": "acbd7633-9a07-49d7-8b87-281fcf50c5f2",
   "metadata": {},
   "outputs": [],
   "source": [
    "%matplotlib inline"
   ]
  },
  {
   "cell_type": "code",
   "execution_count": 22,
   "id": "133a5ab4-dd59-4606-b4e4-d50d8672f9ca",
   "metadata": {},
   "outputs": [],
   "source": [
    "import numpy as np\n",
    "import pandas as pd\n",
    "import matplotlib.pyplot as plt\n",
    "\n",
    "import zipfile\n",
    "import pathlib"
   ]
  },
  {
   "cell_type": "markdown",
   "id": "a1b38925-56ec-4fc9-8606-ff74d18347f2",
   "metadata": {},
   "source": [
    "# Dummy File"
   ]
  },
  {
   "cell_type": "code",
   "execution_count": 11,
   "id": "56aa59fd-9287-41fc-ac0a-1e6626571331",
   "metadata": {},
   "outputs": [
    {
     "data": {
      "text/html": [
       "<div>\n",
       "<style scoped>\n",
       "    .dataframe tbody tr th:only-of-type {\n",
       "        vertical-align: middle;\n",
       "    }\n",
       "\n",
       "    .dataframe tbody tr th {\n",
       "        vertical-align: top;\n",
       "    }\n",
       "\n",
       "    .dataframe thead th {\n",
       "        text-align: right;\n",
       "    }\n",
       "</style>\n",
       "<table border=\"1\" class=\"dataframe\">\n",
       "  <thead>\n",
       "    <tr style=\"text-align: right;\">\n",
       "      <th></th>\n",
       "      <th>id</th>\n",
       "      <th>name</th>\n",
       "      <th>age</th>\n",
       "      <th>gender</th>\n",
       "      <th>salary</th>\n",
       "    </tr>\n",
       "  </thead>\n",
       "  <tbody>\n",
       "    <tr>\n",
       "      <th>0</th>\n",
       "      <td>1</td>\n",
       "      <td>John</td>\n",
       "      <td>22</td>\n",
       "      <td>M</td>\n",
       "      <td>53511</td>\n",
       "    </tr>\n",
       "    <tr>\n",
       "      <th>1</th>\n",
       "      <td>2</td>\n",
       "      <td>Jane</td>\n",
       "      <td>24</td>\n",
       "      <td>F</td>\n",
       "      <td>39480</td>\n",
       "    </tr>\n",
       "    <tr>\n",
       "      <th>2</th>\n",
       "      <td>3</td>\n",
       "      <td>Bob</td>\n",
       "      <td>49</td>\n",
       "      <td>M</td>\n",
       "      <td>49047</td>\n",
       "    </tr>\n",
       "    <tr>\n",
       "      <th>3</th>\n",
       "      <td>4</td>\n",
       "      <td>Alice</td>\n",
       "      <td>42</td>\n",
       "      <td>F</td>\n",
       "      <td>60648</td>\n",
       "    </tr>\n",
       "    <tr>\n",
       "      <th>4</th>\n",
       "      <td>5</td>\n",
       "      <td>Mark</td>\n",
       "      <td>24</td>\n",
       "      <td>M</td>\n",
       "      <td>73021</td>\n",
       "    </tr>\n",
       "    <tr>\n",
       "      <th>5</th>\n",
       "      <td>6</td>\n",
       "      <td>Julia</td>\n",
       "      <td>23</td>\n",
       "      <td>F</td>\n",
       "      <td>57079</td>\n",
       "    </tr>\n",
       "    <tr>\n",
       "      <th>6</th>\n",
       "      <td>7</td>\n",
       "      <td>Adam</td>\n",
       "      <td>21</td>\n",
       "      <td>M</td>\n",
       "      <td>39469</td>\n",
       "    </tr>\n",
       "    <tr>\n",
       "      <th>7</th>\n",
       "      <td>8</td>\n",
       "      <td>Eve</td>\n",
       "      <td>49</td>\n",
       "      <td>F</td>\n",
       "      <td>53834</td>\n",
       "    </tr>\n",
       "    <tr>\n",
       "      <th>8</th>\n",
       "      <td>9</td>\n",
       "      <td>Sam</td>\n",
       "      <td>48</td>\n",
       "      <td>M</td>\n",
       "      <td>57367</td>\n",
       "    </tr>\n",
       "    <tr>\n",
       "      <th>9</th>\n",
       "      <td>10</td>\n",
       "      <td>Sara</td>\n",
       "      <td>47</td>\n",
       "      <td>F</td>\n",
       "      <td>61350</td>\n",
       "    </tr>\n",
       "  </tbody>\n",
       "</table>\n",
       "</div>"
      ],
      "text/plain": [
       "   id   name  age gender  salary\n",
       "0   1   John   22      M   53511\n",
       "1   2   Jane   24      F   39480\n",
       "2   3    Bob   49      M   49047\n",
       "3   4  Alice   42      F   60648\n",
       "4   5   Mark   24      M   73021\n",
       "5   6  Julia   23      F   57079\n",
       "6   7   Adam   21      M   39469\n",
       "7   8    Eve   49      F   53834\n",
       "8   9    Sam   48      M   57367\n",
       "9  10   Sara   47      F   61350"
      ]
     },
     "execution_count": 11,
     "metadata": {},
     "output_type": "execute_result"
    }
   ],
   "source": [
    "# Create a Pandas DataFrame with dummy data\n",
    "df = pd.DataFrame({\n",
    "    'id': range(1, 11),\n",
    "    'name': ['John', 'Jane', 'Bob', 'Alice', 'Mark', 'Julia', 'Adam', 'Eve', 'Sam', 'Sara'],\n",
    "    'age': np.random.randint(20, 50, 10),\n",
    "    'gender': ['M', 'F', 'M', 'F', 'M', 'F', 'M', 'F', 'M', 'F'],\n",
    "    'salary': np.random.randint(30000, 80000, 10)\n",
    "})\n",
    "df"
   ]
  },
  {
   "cell_type": "code",
   "execution_count": 12,
   "id": "da8a9c70-6662-41aa-a001-51b715f12643",
   "metadata": {},
   "outputs": [],
   "source": [
    "def replace_values(df, col):\n",
    "    df[col] = df[col].str.replace('M', 'S')"
   ]
  },
  {
   "cell_type": "code",
   "execution_count": 14,
   "id": "bafbd0fb-46b7-45e5-a1eb-8ddc19da7927",
   "metadata": {},
   "outputs": [],
   "source": [
    "replace_values(df, 'gender')"
   ]
  },
  {
   "cell_type": "code",
   "execution_count": 18,
   "id": "04c917c5-4ee0-4031-a49a-7ca9e9e9c5c7",
   "metadata": {},
   "outputs": [
    {
     "data": {
      "text/plain": [
       "'age'"
      ]
     },
     "execution_count": 18,
     "metadata": {},
     "output_type": "execute_result"
    }
   ],
   "source": [
    "df['age'].name"
   ]
  },
  {
   "cell_type": "code",
   "execution_count": 19,
   "id": "2388846c-5fb2-4ab7-9992-dd0125be0d1f",
   "metadata": {},
   "outputs": [
    {
     "data": {
      "text/plain": [
       "0    22\n",
       "1    24\n",
       "2    49\n",
       "3    42\n",
       "4    24\n",
       "5    23\n",
       "6    21\n",
       "7    49\n",
       "8    48\n",
       "9    47\n",
       "Name: age, dtype: int32"
      ]
     },
     "execution_count": 19,
     "metadata": {},
     "output_type": "execute_result"
    }
   ],
   "source": [
    "df.loc[:, 'age']"
   ]
  },
  {
   "cell_type": "code",
   "execution_count": 20,
   "id": "35c9ec08-1aeb-4bdc-af04-45269e92a1e6",
   "metadata": {},
   "outputs": [
    {
     "data": {
      "text/plain": [
       "0    22\n",
       "1    24\n",
       "2    49\n",
       "3    42\n",
       "4    24\n",
       "5    23\n",
       "6    21\n",
       "7    49\n",
       "8    48\n",
       "9    47\n",
       "Name: age, dtype: int32"
      ]
     },
     "execution_count": 20,
     "metadata": {},
     "output_type": "execute_result"
    }
   ],
   "source": [
    "df.age"
   ]
  },
  {
   "cell_type": "code",
   "execution_count": null,
   "id": "7c918282-3a0e-43e0-924b-4bd5f395ac53",
   "metadata": {},
   "outputs": [],
   "source": [
    "import pandas as pd\n",
    "import json\n"
   ]
  },
  {
   "cell_type": "code",
   "execution_count": null,
   "id": "318b398e-5b92-479b-836b-eed9c86a9c56",
   "metadata": {},
   "outputs": [],
   "source": [
    "def remove_advertisement(df, cols):\n",
    "    \"\"\"Removes the AD word\"\"\"\n",
    "    result = pd.DataFrame()\n",
    "    for col in cols:\n",
    "        result[col] = df.loc[:, col].str.replace('ADVERTISEMENT', '')\n",
    "    \n",
    "    return result\n",
    "\n",
    "def combine_json_to_dataframe(zip_file_path, num_words_cutoff = 20) -> pd.DataFrame:\n",
    "    \"\"\"\n",
    "    Combines data from three JSON files containing recipes, loads them into a Pandas DataFrame, and \n",
    "    pre-processes the data for further analysis. Returns the resulting DataFrame.\n",
    "    \n",
    "    Args:\n",
    "        zip_file_path (str): The file path of the zip file containing the three JSON files with recipe data.\n",
    "        num_words_cutoff (int): The minimum number of words in a recipe to be included in the resulting DataFrame.\n",
    "\n",
    "    Returns:\n",
    "        pandas.DataFrame: A DataFrame containing the combined data from the three JSON files with the \n",
    "        following columns: 'title', 'ingredients', 'instructions', 'full_text', and 'num_words'. All \n",
    "        recipes with fewer than 'num_words_cutoff' words are excluded.\n",
    "    \"\"\"\n",
    "    # Open the zip file and load the JSON files\n",
    "    with zipfile.ZipFile(zip_file_path) as z:\n",
    "        with z.open('recipes_raw_nosource_fn.json') as f:\n",
    "            fn_data = json.load(f)\n",
    "        with z.open('recipes_raw_nosource_epi.json') as f:\n",
    "            epi_data = json.load(f)\n",
    "        with z.open('recipes_raw_nosource_ar.json') as f:\n",
    "            ar_data = json.load(f)\n",
    "\n",
    "    # Combine the data from the three JSON files\n",
    "    data = {**fn_data, **epi_data, **ar_data}\n",
    "\n",
    "    # Convert the data to a dataframe\n",
    "    df = pd.DataFrame.from_dict(data, orient='index')\n",
    "\n",
    "    # Add a new column with the concatenated text\n",
    "    df['full_text'] = ('Recipe title: ' + \n",
    "                       df['title'] + \n",
    "                       '. Ingredients: ' + \n",
    "                       df['ingredients'].apply(lambda x: '; '.join(x)) + \n",
    "                       '. Instructions: ' + \n",
    "                       df['instructions'])\n",
    "    \n",
    "    df = (df.\n",
    "          # remove adds\n",
    "          pipe(remove_advertisement).\n",
    "          # drop the picture_link column\n",
    "          drop(['picture_link'], axis = 1).\n",
    "          # give a num_words estimation\n",
    "          assign(num_words = lambda d: d['full_text'].str.split().str.len()).\n",
    "          # drop short recipes\n",
    "          loc[lambda d: d['num_words'] > num_words_cutoff]\n",
    "    )\n",
    "\n",
    "    return df\n",
    "\n",
    "if __name__ == \"__main__\":\n",
    "    full_data = combine_json_to_dataframe(\"data/recipes_raw.zip\")\n",
    "    print(full_data.info())"
   ]
  },
  {
   "cell_type": "code",
   "execution_count": 26,
   "id": "9e87900f-d477-458a-8ea5-637f65b85b7b",
   "metadata": {},
   "outputs": [
    {
     "data": {
      "text/plain": [
       "True"
      ]
     },
     "execution_count": 26,
     "metadata": {},
     "output_type": "execute_result"
    }
   ],
   "source": [
    "path_to_zip = pathlib.Path().home() / 'Desktop/Others.zip'\n",
    "path_to_zip.exists()"
   ]
  },
  {
   "cell_type": "code",
   "execution_count": 32,
   "id": "a30821fb-2cb0-4fc5-93e4-b52284070bb2",
   "metadata": {},
   "outputs": [
    {
     "name": "stdout",
     "output_type": "stream",
     "text": [
      "[<ZipInfo filename='moving_average.md' compress_type=deflate external_attr=0x20 file_size=2325 compress_size=718>, <ZipInfo filename='regex.md' compress_type=deflate external_attr=0x20 file_size=940 compress_size=433>]\n",
      "C:\\Users\\a1056968\\Desktop\\Others.zip\n",
      "[<ZipInfo filename='moving_average.md' compress_type=deflate external_attr=0x20 file_size=2325 compress_size=718>, <ZipInfo filename='regex.md' compress_type=deflate external_attr=0x20 file_size=940 compress_size=433>]\n",
      "['moving_average.md', 'regex.md']\n"
     ]
    }
   ],
   "source": [
    "with zipfile.ZipFile(path_to_zip) as z:\n",
    "    z.namelist"
   ]
  },
  {
   "cell_type": "code",
   "execution_count": null,
   "id": "6514eb80-016c-419b-9580-bffd1f2ed4b2",
   "metadata": {},
   "outputs": [],
   "source": []
  },
  {
   "cell_type": "code",
   "execution_count": null,
   "id": "0f165ddf-06c2-4c47-bd76-aae35db7c9eb",
   "metadata": {},
   "outputs": [],
   "source": []
  }
 ],
 "metadata": {
  "kernelspec": {
   "display_name": "Python 3 (ipykernel)",
   "language": "python",
   "name": "python3"
  },
  "language_info": {
   "codemirror_mode": {
    "name": "ipython",
    "version": 3
   },
   "file_extension": ".py",
   "mimetype": "text/x-python",
   "name": "python",
   "nbconvert_exporter": "python",
   "pygments_lexer": "ipython3",
   "version": "3.10.10"
  }
 },
 "nbformat": 4,
 "nbformat_minor": 5
}
