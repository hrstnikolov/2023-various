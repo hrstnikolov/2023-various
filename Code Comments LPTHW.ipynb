{
 "cells": [
  {
   "cell_type": "markdown",
   "id": "d8c82a8a-a934-4859-a654-0286d995d9cc",
   "metadata": {
    "tags": []
   },
   "source": [
    "# Code Comments - Learn Python The Hard Way\n",
    "\n",
    "clear and concise explanations of what the code does = **code comment**"
   ]
  },
  {
   "cell_type": "markdown",
   "id": "acffdb43-2889-431e-a20b-9db6f5be94f1",
   "metadata": {
    "jp-MarkdownHeadingCollapsed": true,
    "tags": []
   },
   "source": [
    "## Ex01"
   ]
  },
  {
   "cell_type": "code",
   "execution_count": 34,
   "id": "6c4fee31-37c6-4a42-8c48-de8c519cd713",
   "metadata": {},
   "outputs": [],
   "source": [
    "# Run the file `dummy.py` in the terminal.\n",
    "\n",
    "# In the terminal:\n",
    "# python dummy.py"
   ]
  },
  {
   "cell_type": "markdown",
   "id": "484b5458-697f-45d6-ad54-a4d1d0201fe1",
   "metadata": {
    "jp-MarkdownHeadingCollapsed": true,
    "tags": []
   },
   "source": [
    "## Ex06"
   ]
  },
  {
   "cell_type": "code",
   "execution_count": 19,
   "id": "8d088064-c133-40e6-80d6-046fb7d0f374",
   "metadata": {},
   "outputs": [],
   "source": [
    "# BEST, MOST COLLOQUAIL\n",
    "# Create a variable 'z' and give it the value of 3.14.\n",
    "z = 3.14\n",
    "\n",
    "# Create a variable named 'x' and set it to integer value '10'.\n",
    "x = 10\n",
    "\n",
    "# Assign the value of 'abc' to the variable 'x'.\n",
    "x = 'abc'\n",
    "\n",
    "# Declare a varible called 'y' and initialize it with the string value '100'.\n",
    "y = '100'"
   ]
  },
  {
   "cell_type": "code",
   "execution_count": 26,
   "id": "9de77894-7555-4241-b532-9cdfc3de4323",
   "metadata": {},
   "outputs": [],
   "source": [
    "# Variables have two main properties:\n",
    "#   - a name\n",
    "#   - a reference to a value\n",
    "\n",
    "# `total_qty` hold a reference to the integer object `1198`.\n",
    "total_qty = 1198"
   ]
  },
  {
   "cell_type": "code",
   "execution_count": 20,
   "id": "0b34917d-b7a5-41d1-9651-a6f4ae5c8783",
   "metadata": {},
   "outputs": [
    {
     "name": "stdout",
     "output_type": "stream",
     "text": [
      "5\n",
      "abc\n"
     ]
    }
   ],
   "source": [
    "# BEST, MOST COLLOQUAIL\n",
    "# Display the value '5' of the screen.\n",
    "\n",
    "# Print the value '5' on the terminal.\n",
    "print('5')\n",
    "\n",
    "# Print the value of the variable 'x' on the terminal.\n",
    "# Output the current value of the variable 'x' on the console.\n",
    "print(x)"
   ]
  },
  {
   "cell_type": "markdown",
   "id": "449014b1-bcd9-4391-bbb4-95638fb80046",
   "metadata": {
    "jp-MarkdownHeadingCollapsed": true,
    "tags": []
   },
   "source": [
    "## Ex08"
   ]
  },
  {
   "cell_type": "code",
   "execution_count": 25,
   "id": "3bb8b126-e5ce-4c8a-9e3f-6e8e2facafd6",
   "metadata": {},
   "outputs": [
    {
     "name": "stdout",
     "output_type": "stream",
     "text": [
      "Name: Ivan Age: 23\n",
      "Name: George Age: 44\n"
     ]
    }
   ],
   "source": [
    "# Declare a varibale 'template' and initialize it with the string value below.\n",
    "template = 'Name: {} Age: {}'\n",
    "\n",
    "# The result of calling `format` on `template` is a new string.\n",
    "# `format` returns a string value.\n",
    "template.format('Ivan', 23)\n",
    "\n",
    "# 1. Call the `format` method on the `template` variable.\n",
    "# 2. Pass 2 arguments to the `format` method.\n",
    "print(template.format('Ivan', 23))\n",
    "\n",
    "# Call the `format` method and pass another 2 values as arguments.\n",
    "print(template.format('George', 44))"
   ]
  },
  {
   "cell_type": "markdown",
   "id": "fbdc7c1f-5369-4e68-adce-f4330e70a0c3",
   "metadata": {
    "jp-MarkdownHeadingCollapsed": true,
    "tags": []
   },
   "source": [
    "## Ex10"
   ]
  },
  {
   "cell_type": "code",
   "execution_count": 24,
   "id": "f02a56ea-4a53-4569-9eea-b43aae73d2b1",
   "metadata": {},
   "outputs": [
    {
     "data": {
      "text/plain": [
       "'\\t\\n\\\\'"
      ]
     },
     "execution_count": 24,
     "metadata": {},
     "output_type": "execute_result"
    }
   ],
   "source": [
    "# Escape double-quote inside a string.\n",
    "\"I am \\\"THE BOSS\\\"\"\n",
    "\n",
    "# Escale single-quotes.\n",
    "' \\' escaped'\n",
    "\n",
    "# The backslash character encodes difficult-to-type characters.\n",
    "# In this case the backslash encodes the `new line character`.\n",
    "'\\n'\n",
    "\n",
    "# These are all **escape sequences**.\n",
    "'\\t\\n\\\\'"
   ]
  },
  {
   "cell_type": "markdown",
   "id": "b99861b6-2204-40e5-8bd1-42b5ba7a5ba2",
   "metadata": {
    "jp-MarkdownHeadingCollapsed": true,
    "tags": []
   },
   "source": [
    "## Ex11"
   ]
  },
  {
   "cell_type": "code",
   "execution_count": 27,
   "id": "213a4f54-b3c3-4bf7-a373-af0f7fc4325b",
   "metadata": {},
   "outputs": [
    {
     "name": "stdin",
     "output_type": "stream",
     "text": [
      " s\n"
     ]
    },
    {
     "data": {
      "text/plain": [
       "'s'"
      ]
     },
     "execution_count": 27,
     "metadata": {},
     "output_type": "execute_result"
    }
   ],
   "source": [
    "# Read user input from the terminal.\n",
    "\n",
    "# Read a line of text entered by the user from the terminal.\n",
    "# Accept user input from the standard input.\n",
    "# Capture the user input.\n",
    "\n",
    "# input()"
   ]
  },
  {
   "cell_type": "code",
   "execution_count": null,
   "id": "e5c60b97-e661-4306-b2b0-018e38f9de26",
   "metadata": {},
   "outputs": [],
   "source": [
    "# Call the `print` function and give it two arguments.\n",
    "\n",
    "# Run the `print` function.\n",
    "\n",
    "# Invoke the `print` function providing two arguments:\n",
    "#   - string as positional argument \n",
    "#   - white space as named argument\n",
    "print(\"How old are you?\", end=' ')"
   ]
  },
  {
   "cell_type": "markdown",
   "id": "6b2cd33f-dee1-4fd6-80cb-0dac1a567015",
   "metadata": {
    "jp-MarkdownHeadingCollapsed": true,
    "tags": []
   },
   "source": [
    "## Ex12"
   ]
  },
  {
   "cell_type": "code",
   "execution_count": 29,
   "id": "3ac35563-eaa8-4cea-919f-0221046e978d",
   "metadata": {},
   "outputs": [],
   "source": [
    "# Prompt the user with the string 'Name?'\n",
    "# input(\"Name?\")"
   ]
  },
  {
   "cell_type": "markdown",
   "id": "c8cca812-2d72-4923-a326-6eacce52595b",
   "metadata": {
    "jp-MarkdownHeadingCollapsed": true,
    "tags": []
   },
   "source": [
    "## Ex13"
   ]
  },
  {
   "cell_type": "code",
   "execution_count": 33,
   "id": "12378dc5-2fa7-4067-8441-4cc5cb31fe96",
   "metadata": {},
   "outputs": [
    {
     "name": "stdout",
     "output_type": "stream",
     "text": [
      "Script: C:\\Users\\a1056968\\Anaconda3\\envs\\deep_learning\\lib\\site-packages\\ipykernel_launcher.py\n",
      "First: -f\n",
      "Second: C:\\Users\\a1056968\\AppData\\Roaming\\jupyter\\runtime\\kernel-4a00270c-74d7-4175-821b-98de86c45e6f.json\n"
     ]
    }
   ],
   "source": [
    "# Import the `argv` variable from the `sys` module.\n",
    "# Add `argv` variable to the namespace of the current scope.\n",
    "from sys import argv\n",
    "\n",
    "# Unpack the `argv` variable and assign its elements to three separate variables.\n",
    "# Unpack the contents of `argv` and distribute its values...\n",
    "# Extract the values stored in `argv`...\n",
    "script, first, second = argv\n",
    "print(\"Script:\", script)\n",
    "print(\"First:\", first)\n",
    "print(\"Second:\", second)"
   ]
  },
  {
   "cell_type": "markdown",
   "id": "14093a8f-52ad-4257-b7ea-ce654b42cc63",
   "metadata": {
    "jp-MarkdownHeadingCollapsed": true,
    "tags": []
   },
   "source": [
    "## Ex14"
   ]
  },
  {
   "cell_type": "code",
   "execution_count": null,
   "id": "c5bd3709-8297-4dc9-b26a-9b5c38e21ae7",
   "metadata": {},
   "outputs": [],
   "source": [
    "# We promp the user with the string stored in \n",
    "# the `prompt` variable and read his input.\n",
    "# We then assign the input value to the `likes` variable.\n",
    "prompt = '>!>'\n",
    "likes = input(prompt)"
   ]
  },
  {
   "cell_type": "code",
   "execution_count": 37,
   "id": "e33e46e9-f685-437a-a13e-caeff7710027",
   "metadata": {},
   "outputs": [],
   "source": [
    "# Open the file specified bu the `filename` \n",
    "# and assign the file object to the `fileobj` variable.\n",
    "\n",
    "filename = 'test1.txt'\n",
    "fileobj = open(filename)\n",
    "fileobj.close()"
   ]
  },
  {
   "cell_type": "code",
   "execution_count": 39,
   "id": "9e57d43a-3cd1-471b-a68d-2c782e464e05",
   "metadata": {},
   "outputs": [],
   "source": [
    "# Print a message.\n",
    "\n",
    "# print(f'This is the file content: {fileobj.read()}')"
   ]
  },
  {
   "cell_type": "markdown",
   "id": "c140a8c5-a0e5-4ed0-a5a1-e6263a9aaa2d",
   "metadata": {
    "jp-MarkdownHeadingCollapsed": true,
    "tags": []
   },
   "source": [
    "## Ex16"
   ]
  },
  {
   "cell_type": "code",
   "execution_count": 40,
   "id": "e87d0d0a-87c0-476e-a3a6-680d7e2cabc5",
   "metadata": {},
   "outputs": [],
   "source": [
    "# with open('test1.txt', 'r') as f:\n",
    "# Read the contents of a file. Assign the result to a variable.\n",
    "  # text_inside = f.read()\n",
    "\n",
    "# in_file = open(from_file)\n",
    "# indata = in_file.read()"
   ]
  },
  {
   "cell_type": "markdown",
   "id": "dd2eaa37-3c27-4c8d-a644-ef3f94ac995a",
   "metadata": {},
   "source": [
    "## Ex18"
   ]
  },
  {
   "cell_type": "code",
   "execution_count": null,
   "id": "96fdc65a-756a-4256-9dda-9040f8db5694",
   "metadata": {},
   "outputs": [],
   "source": []
  },
  {
   "cell_type": "code",
   "execution_count": null,
   "id": "4dd66304-461a-41a8-a0a1-bd9d3983d7ba",
   "metadata": {},
   "outputs": [],
   "source": []
  }
 ],
 "metadata": {
  "kernelspec": {
   "display_name": "Python 3 (ipykernel)",
   "language": "python",
   "name": "python3"
  },
  "language_info": {
   "codemirror_mode": {
    "name": "ipython",
    "version": 3
   },
   "file_extension": ".py",
   "mimetype": "text/x-python",
   "name": "python",
   "nbconvert_exporter": "python",
   "pygments_lexer": "ipython3",
   "version": "3.10.10"
  }
 },
 "nbformat": 4,
 "nbformat_minor": 5
}
