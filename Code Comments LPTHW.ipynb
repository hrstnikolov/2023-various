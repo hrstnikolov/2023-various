{
 "cells": [
  {
   "cell_type": "markdown",
   "id": "d8c82a8a-a934-4859-a654-0286d995d9cc",
   "metadata": {
    "tags": []
   },
   "source": [
    "# Code Comments - Learn Python The Hard Way\n",
    "\n",
    "clear and concise explanations of what the code does = **code comment**"
   ]
  },
  {
   "cell_type": "markdown",
   "id": "acffdb43-2889-431e-a20b-9db6f5be94f1",
   "metadata": {
    "tags": []
   },
   "source": [
    "## Ex01"
   ]
  },
  {
   "cell_type": "code",
   "execution_count": 34,
   "id": "6c4fee31-37c6-4a42-8c48-de8c519cd713",
   "metadata": {},
   "outputs": [],
   "source": [
    "# Run the file `dummy.py` in the terminal.\n",
    "\n",
    "# In the terminal:\n",
    "# python dummy.py"
   ]
  },
  {
   "cell_type": "markdown",
   "id": "484b5458-697f-45d6-ad54-a4d1d0201fe1",
   "metadata": {
    "tags": []
   },
   "source": [
    "## Ex06"
   ]
  },
  {
   "cell_type": "code",
   "execution_count": 19,
   "id": "8d088064-c133-40e6-80d6-046fb7d0f374",
   "metadata": {},
   "outputs": [],
   "source": [
    "# BEST, MOST COLLOQUAIL\n",
    "# Create a variable 'z' and give it the value of 3.14.\n",
    "z = 3.14\n",
    "\n",
    "# Create a variable named 'x' and set it to integer value '10'.\n",
    "x = 10\n",
    "\n",
    "# Assign the value of 'abc' to the variable 'x'.\n",
    "x = 'abc'\n",
    "\n",
    "# Declare a varible called 'y' and initialize it with the string value '100'.\n",
    "y = '100'"
   ]
  },
  {
   "cell_type": "code",
   "execution_count": 26,
   "id": "9de77894-7555-4241-b532-9cdfc3de4323",
   "metadata": {},
   "outputs": [],
   "source": [
    "# Variables have two main properties:\n",
    "#   - a name\n",
    "#   - a reference to a value\n",
    "\n",
    "# `total_qty` holds a reference to the integer object `1198`.\n",
    "total_qty = 1198"
   ]
  },
  {
   "cell_type": "code",
   "execution_count": 20,
   "id": "0b34917d-b7a5-41d1-9651-a6f4ae5c8783",
   "metadata": {},
   "outputs": [
    {
     "name": "stdout",
     "output_type": "stream",
     "text": [
      "5\n",
      "abc\n"
     ]
    }
   ],
   "source": [
    "# BEST, MOST COLLOQUAIL\n",
    "# Print a message.\n",
    "\n",
    "# Display the value '5' on the screen.\n",
    "\n",
    "# Print the value '5' on the terminal.\n",
    "print('5')\n",
    "\n",
    "# Print the value of the variable 'x' on the terminal.\n",
    "# Output the current value of the variable 'x' on the console.\n",
    "print(x)"
   ]
  },
  {
   "cell_type": "markdown",
   "id": "449014b1-bcd9-4391-bbb4-95638fb80046",
   "metadata": {
    "tags": []
   },
   "source": [
    "## Ex08"
   ]
  },
  {
   "cell_type": "code",
   "execution_count": 25,
   "id": "3bb8b126-e5ce-4c8a-9e3f-6e8e2facafd6",
   "metadata": {},
   "outputs": [
    {
     "name": "stdout",
     "output_type": "stream",
     "text": [
      "Name: Ivan Age: 23\n",
      "Name: George Age: 44\n"
     ]
    }
   ],
   "source": [
    "# Declare a variable 'template' and initialize it with the string value below.\n",
    "template = 'Name: {} Age: {}'\n",
    "\n",
    "# Call the `format` method on the `template` variable.\n",
    "# The result of calling `format` on `template` is a new string.\n",
    "# `format` returns a string value.\n",
    "template.format('Ivan', 23)\n",
    "\n",
    "# 1. Call the `format` method on the `template` variable.\n",
    "# 2. Pass 2 arguments to the `format` method.\n",
    "print(template.format('Ivan', 23))\n",
    "\n",
    "# Call the `format` method and pass another 2 values as arguments.\n",
    "print(template.format('George', 44))"
   ]
  },
  {
   "cell_type": "markdown",
   "id": "fbdc7c1f-5369-4e68-adce-f4330e70a0c3",
   "metadata": {
    "tags": []
   },
   "source": [
    "## Ex10"
   ]
  },
  {
   "cell_type": "code",
   "execution_count": 24,
   "id": "f02a56ea-4a53-4569-9eea-b43aae73d2b1",
   "metadata": {},
   "outputs": [
    {
     "data": {
      "text/plain": [
       "'\\t\\n\\\\'"
      ]
     },
     "execution_count": 24,
     "metadata": {},
     "output_type": "execute_result"
    }
   ],
   "source": [
    "# Escape double-quote inside a string.\n",
    "\"I am \\\"THE BOSS\\\"\"\n",
    "\n",
    "# Escape single-quotes.\n",
    "' \\' escaped'\n",
    "\n",
    "# The backslash character encodes difficult-to-type characters.\n",
    "# In this case the backslash encodes the `new line character`.\n",
    "'\\n'\n",
    "\n",
    "# These are all **escape sequences**.\n",
    "'\\t\\n\\\\'"
   ]
  },
  {
   "cell_type": "markdown",
   "id": "b99861b6-2204-40e5-8bd1-42b5ba7a5ba2",
   "metadata": {
    "tags": []
   },
   "source": [
    "## Ex11"
   ]
  },
  {
   "cell_type": "code",
   "execution_count": 27,
   "id": "213a4f54-b3c3-4bf7-a373-af0f7fc4325b",
   "metadata": {},
   "outputs": [
    {
     "name": "stdin",
     "output_type": "stream",
     "text": [
      " s\n"
     ]
    },
    {
     "data": {
      "text/plain": [
       "'s'"
      ]
     },
     "execution_count": 27,
     "metadata": {},
     "output_type": "execute_result"
    }
   ],
   "source": [
    "# Read user input from the terminal.\n",
    "\n",
    "# Read a line of text entered by the user from the terminal.\n",
    "# Accept user input from the standard input.\n",
    "# Capture the user input.\n",
    "\n",
    "# input()"
   ]
  },
  {
   "cell_type": "code",
   "execution_count": null,
   "id": "e5c60b97-e661-4306-b2b0-018e38f9de26",
   "metadata": {},
   "outputs": [],
   "source": [
    "# Call the `print` function and give it two arguments.\n",
    "\n",
    "# Run the `print` function.\n",
    "\n",
    "# Invoke the `print` function providing two arguments:\n",
    "#   - string as positional argument \n",
    "#   - white space as named argument\n",
    "print(\"How old are you?\", end=' ')"
   ]
  },
  {
   "cell_type": "markdown",
   "id": "6b2cd33f-dee1-4fd6-80cb-0dac1a567015",
   "metadata": {
    "tags": []
   },
   "source": [
    "## Ex12"
   ]
  },
  {
   "cell_type": "code",
   "execution_count": 29,
   "id": "3ac35563-eaa8-4cea-919f-0221046e978d",
   "metadata": {},
   "outputs": [],
   "source": [
    "# Prompt the user with the string 'Name?'\n",
    "# input(\"Name?\")"
   ]
  },
  {
   "cell_type": "markdown",
   "id": "c8cca812-2d72-4923-a326-6eacce52595b",
   "metadata": {
    "tags": []
   },
   "source": [
    "## Ex13"
   ]
  },
  {
   "cell_type": "code",
   "execution_count": 33,
   "id": "12378dc5-2fa7-4067-8441-4cc5cb31fe96",
   "metadata": {},
   "outputs": [
    {
     "name": "stdout",
     "output_type": "stream",
     "text": [
      "Script: C:\\Users\\a1056968\\Anaconda3\\envs\\deep_learning\\lib\\site-packages\\ipykernel_launcher.py\n",
      "First: -f\n",
      "Second: C:\\Users\\a1056968\\AppData\\Roaming\\jupyter\\runtime\\kernel-4a00270c-74d7-4175-821b-98de86c45e6f.json\n"
     ]
    }
   ],
   "source": [
    "# Import the `argv` variable from the `sys` module.\n",
    "# Add `argv` variable to the namespace of the current scope.\n",
    "from sys import argv\n",
    "\n",
    "# Unpack the `argv` variable and assign its elements to three separate variables.\n",
    "# Unpack the contents of `argv` and distribute its values...\n",
    "# Extract the values stored in `argv`...\n",
    "script, first, second = argv\n",
    "print(\"Script:\", script)\n",
    "print(\"First:\", first)\n",
    "print(\"Second:\", second)"
   ]
  },
  {
   "cell_type": "markdown",
   "id": "14093a8f-52ad-4257-b7ea-ce654b42cc63",
   "metadata": {
    "tags": []
   },
   "source": [
    "## Ex14"
   ]
  },
  {
   "cell_type": "code",
   "execution_count": null,
   "id": "c5bd3709-8297-4dc9-b26a-9b5c38e21ae7",
   "metadata": {},
   "outputs": [],
   "source": [
    "# We promp the user with the string stored in \n",
    "# the `prompt` variable and read his input.\n",
    "# We then assign the provided value to the `likes` variable.\n",
    "prompt = '>!>'\n",
    "likes = input(prompt)"
   ]
  },
  {
   "cell_type": "code",
   "execution_count": 37,
   "id": "e33e46e9-f685-437a-a13e-caeff7710027",
   "metadata": {},
   "outputs": [],
   "source": [
    "# Open the file specified by the `filename` \n",
    "# and assign the file object to the `fileobj` variable.\n",
    "\n",
    "filename = 'test1.txt'\n",
    "fileobj = open(filename)\n",
    "fileobj.close()"
   ]
  },
  {
   "cell_type": "code",
   "execution_count": 39,
   "id": "9e57d43a-3cd1-471b-a68d-2c782e464e05",
   "metadata": {},
   "outputs": [],
   "source": [
    "# Print a message.\n",
    "\n",
    "# print(f'This is the file content: {fileobj.read()}')"
   ]
  },
  {
   "cell_type": "markdown",
   "id": "c140a8c5-a0e5-4ed0-a5a1-e6263a9aaa2d",
   "metadata": {
    "tags": []
   },
   "source": [
    "## Ex16"
   ]
  },
  {
   "cell_type": "code",
   "execution_count": 40,
   "id": "e87d0d0a-87c0-476e-a3a6-680d7e2cabc5",
   "metadata": {},
   "outputs": [],
   "source": [
    "# with open('test1.txt', 'r') as f:\n",
    "# Read the contents of a file. Assign the result to a variable.\n",
    "  # text_inside = f.read()\n",
    "\n",
    "# in_file = open(from_file)\n",
    "# indata = in_file.read()"
   ]
  },
  {
   "cell_type": "markdown",
   "id": "dd2eaa37-3c27-4c8d-a644-ef3f94ac995a",
   "metadata": {
    "tags": []
   },
   "source": [
    "## Ex18"
   ]
  },
  {
   "cell_type": "code",
   "execution_count": 45,
   "id": "96fdc65a-756a-4256-9dda-9040f8db5694",
   "metadata": {},
   "outputs": [
    {
     "name": "stdout",
     "output_type": "stream",
     "text": [
      "Your position is: 3:5\n",
      "Your position is: s:asdas\n"
     ]
    }
   ],
   "source": [
    "# Create a function.\n",
    "def show_position(*args):\n",
    "    # Unpack the arguments.\n",
    "    x, y = args\n",
    "    print(f'Your position is: {x}:{y}')\n",
    "    \n",
    "# Call/run/invoce the `show_postion` function.\n",
    "show_position(3, 5) \n",
    "show_position('s', 'asdas')\n",
    "\n",
    "# ValueError: too many values to unpack (expected 2)\n",
    "# show_position(1, 32, 2.3)"
   ]
  },
  {
   "cell_type": "markdown",
   "id": "19b11dc0-f9dd-4fc5-a947-734c4339f1c7",
   "metadata": {
    "tags": []
   },
   "source": [
    "## Ex19"
   ]
  },
  {
   "cell_type": "code",
   "execution_count": 49,
   "id": "587c27c1-6127-4921-a7c3-ca40cea459b8",
   "metadata": {},
   "outputs": [
    {
     "name": "stdout",
     "output_type": "stream",
     "text": [
      "Task #0: do homework\n",
      "Task #1: wash dishes\n",
      "Task #2: walk the dog\n",
      "Task #0: go out\n",
      "Task #1: come back home\n"
     ]
    }
   ],
   "source": [
    "def display_tasks(tasks):\n",
    "    for i, task in enumerate(tasks):\n",
    "        print(f'Task #{i}: {task}')\n",
    "    \n",
    "# Call the function. Use a list value as argument.\n",
    "display_tasks(['do homework', 'wash dishes', 'walk the dog'])\n",
    "\n",
    "# Give a variable as argument.\n",
    "my_tasks = ['go out', 'come back home']\n",
    "display_tasks(my_tasks)"
   ]
  },
  {
   "cell_type": "code",
   "execution_count": 49,
   "id": "f810d16d-2fbe-4ddf-b9dd-6726432eb782",
   "metadata": {},
   "outputs": [
    {
     "name": "stdout",
     "output_type": "stream",
     "text": [
      "Task #0: do homework\n",
      "Task #1: wash dishes\n",
      "Task #2: walk the dog\n",
      "Task #0: go out\n",
      "Task #1: come back home\n"
     ]
    }
   ],
   "source": [
    "def display_tasks(tasks):\n",
    "    for i, task in enumerate(tasks):\n",
    "        print(f'Task #{i}: {task}')\n",
    "    \n",
    "# Call the function. Give a value as argument.\n",
    "display_tasks(['do homework', 'wash dishes', 'walk the dog'])\n",
    "\n",
    "# Give a variable as argument.\n",
    "my_tasks = ['go out', 'come back home']\n",
    "display_tasks(my_tasks)"
   ]
  },
  {
   "cell_type": "markdown",
   "id": "c3cf2f96-3138-43de-aa8a-3941995b68e6",
   "metadata": {
    "tags": []
   },
   "source": [
    "## Ex23"
   ]
  },
  {
   "cell_type": "code",
   "execution_count": 84,
   "id": "e5f624c5-bbe3-4d81-b005-085582f0d956",
   "metadata": {},
   "outputs": [
    {
     "data": {
      "text/plain": [
       "b'\\xd0\\xb0\\xd0\\xbb\\xd1\\x81\\xd0\\xb4\\xd0\\xba\\xd0\\xb0'"
      ]
     },
     "execution_count": 84,
     "metadata": {},
     "output_type": "execute_result"
    }
   ],
   "source": [
    "# Encode a string in bulgarian using the utf-8 convention/standard.\n",
    "'алсдка'.encode('utf-8')"
   ]
  },
  {
   "cell_type": "code",
   "execution_count": 71,
   "id": "0e27c2ef-36ad-4ec6-9fa1-ca45aece4020",
   "metadata": {},
   "outputs": [
    {
     "data": {
      "text/plain": [
       "'utf-8'"
      ]
     },
     "execution_count": 71,
     "metadata": {},
     "output_type": "execute_result"
    }
   ],
   "source": [
    "import sys\n",
    "\n",
    "# Print the default encoding on my system.\n",
    "sys.getdefaultencoding()"
   ]
  },
  {
   "cell_type": "code",
   "execution_count": 72,
   "id": "5eb89e84-2938-43e6-9c91-c73cb783a85a",
   "metadata": {},
   "outputs": [
    {
     "name": "stdout",
     "output_type": "stream",
     "text": [
      "b'ab'\n",
      "6162\n"
     ]
    }
   ],
   "source": [
    "# Open the file in `write` mode.\n",
    "with open('test1.txt', 'w') as f:\n",
    "    f.write('ab')\n",
    "\n",
    "with open('test1.txt', 'rb') as f:\n",
    "    contents = f.read()\n",
    "    print(contents)\n",
    "    print(contents.hex())"
   ]
  },
  {
   "cell_type": "code",
   "execution_count": 73,
   "id": "b05bd0eb-dbf0-4712-bb2a-6a48b656479b",
   "metadata": {},
   "outputs": [
    {
     "name": "stdout",
     "output_type": "stream",
     "text": [
      "b'ab \\xd1\\x89'\n",
      "616220d189\n"
     ]
    }
   ],
   "source": [
    "# UnicodeEncodeError: 'charmap' codec can't encode character '\\u0449' in position 3\n",
    "# with open('test1.txt', 'w'):\n",
    "#     f.write('ab щ')\n",
    "\n",
    "with open('test1.txt', 'w', encoding='utf-8') as f:\n",
    "    f.write('ab щ')\n",
    "\n",
    "\n",
    "with open('test1.txt', 'rb') as f:\n",
    "    contents = f.read()\n",
    "    print(contents)\n",
    "    print(contents.hex())"
   ]
  },
  {
   "cell_type": "markdown",
   "id": "1f5e6c24-c1cb-4541-b36c-6213f75e63e5",
   "metadata": {
    "tags": []
   },
   "source": [
    "## Ex23-1"
   ]
  },
  {
   "cell_type": "code",
   "execution_count": 85,
   "id": "30f2a332-3ec6-4cf4-b4d1-0b8ac75a7cdf",
   "metadata": {},
   "outputs": [],
   "source": [
    "import urllib.request\n",
    "import sys\n",
    "import os\n",
    "\n",
    "# Download `languages.txt` if not available.\n",
    "url = 'https://learnpythonthehardway.org/python3/languages.txt'\n",
    "save_path = 'data/languages.txt'\n",
    "if not os.path.exists(save_path):\n",
    "    urllib.request.urlretrieve(url, save_path)\n",
    "    print('Downdloaded `languages.txt`.')\n",
    "    \n",
    "\n",
    "def main(language_file, encoding, errors):\n",
    "    line = language_file.readline()\n",
    "    \n",
    "    if line:\n",
    "        print_line(line, encoding, errors)\n",
    "        return main(language_file, encoding, errors)\n",
    "\n",
    "        \n",
    "def print_line(line, encoding, errors):\n",
    "    next_lang = line.strip()\n",
    "    raw_bytes = next_lang.encode(encoding, errors=errors)\n",
    "    cooked_string = raw_bytes.decode(encoding, errors=errors)\n",
    "    \n",
    "    print(raw_bytes, '<===>', cooked_string)"
   ]
  },
  {
   "cell_type": "code",
   "execution_count": 87,
   "id": "b3624eb7-c51c-46e6-bfb8-3cc20b6333e7",
   "metadata": {
    "collapsed": true,
    "jupyter": {
     "outputs_hidden": true
    },
    "tags": []
   },
   "outputs": [
    {
     "name": "stdout",
     "output_type": "stream",
     "text": [
      "b'Afrikaans' <===> Afrikaans\n",
      "b'\\xe1\\x8a\\xa0\\xe1\\x88\\x9b\\xe1\\x88\\xad\\xe1\\x8a\\x9b' <===> አማርኛ\n",
      "b'\\xd0\\x90\\xd2\\xa7\\xd1\\x81\\xd1\\x88\\xd3\\x99\\xd0\\xb0' <===> Аҧсшәа\n",
      "b'\\xd8\\xa7\\xd9\\x84\\xd8\\xb9\\xd8\\xb1\\xd8\\xa8\\xd9\\x8a\\xd8\\xa9' <===> العربية\n",
      "b'Aragon\\xc3\\xa9s' <===> Aragonés\n",
      "b'Arpetan' <===> Arpetan\n",
      "b'Az\\xc9\\x99rbaycanca' <===> Azərbaycanca\n",
      "b'Bamanankan' <===> Bamanankan\n",
      "b'\\xe0\\xa6\\xac\\xe0\\xa6\\xbe\\xe0\\xa6\\x82\\xe0\\xa6\\xb2\\xe0\\xa6\\xbe' <===> বাংলা\n",
      "b'B\\xc3\\xa2n-l\\xc3\\xa2m-g\\xc3\\xba' <===> Bân-lâm-gú\n",
      "b'\\xd0\\x91\\xd0\\xb5\\xd0\\xbb\\xd0\\xb0\\xd1\\x80\\xd1\\x83\\xd1\\x81\\xd0\\xba\\xd0\\xb0\\xd1\\x8f' <===> Беларуская\n",
      "b'\\xd0\\x91\\xd1\\x8a\\xd0\\xbb\\xd0\\xb3\\xd0\\xb0\\xd1\\x80\\xd1\\x81\\xd0\\xba\\xd0\\xb8' <===> Български\n",
      "b'Boarisch' <===> Boarisch\n",
      "b'Bosanski' <===> Bosanski\n",
      "b'\\xd0\\x91\\xd1\\x83\\xd1\\x80\\xd1\\x8f\\xd0\\xb0\\xd0\\xb4' <===> Буряад\n",
      "b'Catal\\xc3\\xa0' <===> Català\n",
      "b'\\xd0\\xa7\\xd3\\x91\\xd0\\xb2\\xd0\\xb0\\xd1\\x88\\xd0\\xbb\\xd0\\xb0' <===> Чӑвашла\n",
      "b'\\xc4\\x8ce\\xc5\\xa1tina' <===> Čeština\n",
      "b'Cymraeg' <===> Cymraeg\n",
      "b'Dansk' <===> Dansk\n",
      "b'Deutsch' <===> Deutsch\n",
      "b'Eesti' <===> Eesti\n",
      "b'\\xce\\x95\\xce\\xbb\\xce\\xbb\\xce\\xb7\\xce\\xbd\\xce\\xb9\\xce\\xba\\xce\\xac' <===> Ελληνικά\n",
      "b'Espa\\xc3\\xb1ol' <===> Español\n",
      "b'Esperanto' <===> Esperanto\n",
      "b'\\xd9\\x81\\xd8\\xa7\\xd8\\xb1\\xd8\\xb3\\xdb\\x8c' <===> فارسی\n",
      "b'Fran\\xc3\\xa7ais' <===> Français\n",
      "b'Frysk' <===> Frysk\n",
      "b'Gaelg' <===> Gaelg\n",
      "b'G\\xc3\\xa0idhlig' <===> Gàidhlig\n",
      "b'Galego' <===> Galego\n",
      "b'\\xed\\x95\\x9c\\xea\\xb5\\xad\\xec\\x96\\xb4' <===> 한국어\n",
      "b'\\xd5\\x80\\xd5\\xa1\\xd5\\xb5\\xd5\\xa5\\xd6\\x80\\xd5\\xa5\\xd5\\xb6' <===> Հայերեն\n",
      "b'\\xe0\\xa4\\xb9\\xe0\\xa4\\xbf\\xe0\\xa4\\xa8\\xe0\\xa5\\x8d\\xe0\\xa4\\xa6\\xe0\\xa5\\x80' <===> हिन्दी\n",
      "b'Hrvatski' <===> Hrvatski\n",
      "b'Ido' <===> Ido\n",
      "b'Interlingua' <===> Interlingua\n",
      "b'Italiano' <===> Italiano\n",
      "b'\\xd7\\xa2\\xd7\\x91\\xd7\\xa8\\xd7\\x99\\xd7\\xaa' <===> עברית\n",
      "b'\\xe0\\xb2\\x95\\xe0\\xb2\\xa8\\xe0\\xb3\\x8d\\xe0\\xb2\\xa8\\xe0\\xb2\\xa1' <===> ಕನ್ನಡ\n",
      "b'Kapampangan' <===> Kapampangan\n",
      "b'\\xe1\\x83\\xa5\\xe1\\x83\\x90\\xe1\\x83\\xa0\\xe1\\x83\\x97\\xe1\\x83\\xa3\\xe1\\x83\\x9a\\xe1\\x83\\x98' <===> ქართული\n",
      "b'\\xd2\\x9a\\xd0\\xb0\\xd0\\xb7\\xd0\\xb0\\xd2\\x9b\\xd1\\x88\\xd0\\xb0' <===> Қазақша\n",
      "b'Krey\\xc3\\xb2l ayisyen' <===> Kreyòl ayisyen\n",
      "b'Latga\\xc4\\xbcu' <===> Latgaļu\n",
      "b'Latina' <===> Latina\n",
      "b'Latvie\\xc5\\xa1u' <===> Latviešu\n",
      "b'L\\xc3\\xabtzebuergesch' <===> Lëtzebuergesch\n",
      "b'Lietuvi\\xc5\\xb3' <===> Lietuvių\n",
      "b'Magyar' <===> Magyar\n",
      "b'\\xd0\\x9c\\xd0\\xb0\\xd0\\xba\\xd0\\xb5\\xd0\\xb4\\xd0\\xbe\\xd0\\xbd\\xd1\\x81\\xd0\\xba\\xd0\\xb8' <===> Македонски\n",
      "b'Malti' <===> Malti\n",
      "b'\\xe0\\xa4\\xae\\xe0\\xa4\\xb0\\xe0\\xa4\\xbe\\xe0\\xa4\\xa0\\xe0\\xa5\\x80' <===> मराठी\n",
      "b'\\xe1\\x83\\x9b\\xe1\\x83\\x90\\xe1\\x83\\xa0\\xe1\\x83\\x92\\xe1\\x83\\x90\\xe1\\x83\\x9a\\xe1\\x83\\xa3\\xe1\\x83\\xa0\\xe1\\x83\\x98' <===> მარგალური\n",
      "b'\\xd9\\x85\\xd8\\xa7\\xd8\\xb2\\xd9\\x90\\xd8\\xb1\\xd9\\x88\\xd9\\x86\\xdb\\x8c' <===> مازِرونی\n",
      "b'Bahasa Melayu' <===> Bahasa Melayu\n",
      "b'\\xd0\\x9c\\xd0\\xbe\\xd0\\xbd\\xd0\\xb3\\xd0\\xbe\\xd0\\xbb' <===> Монгол\n",
      "b'Nederlands' <===> Nederlands\n",
      "b'\\xe0\\xa4\\xa8\\xe0\\xa5\\x87\\xe0\\xa4\\xaa\\xe0\\xa4\\xbe\\xe0\\xa4\\xb2 \\xe0\\xa4\\xad\\xe0\\xa4\\xbe\\xe0\\xa4\\xb7\\xe0\\xa4\\xbe' <===> नेपाल भाषा\n",
      "b'\\xe6\\x97\\xa5\\xe6\\x9c\\xac\\xe8\\xaa\\x9e' <===> 日本語\n",
      "b'Norsk bokm\\xc3\\xa5l' <===> Norsk bokmål\n",
      "b'Nouormand' <===> Nouormand\n",
      "b'Occitan' <===> Occitan\n",
      "b'O\\xca\\xbbzbekcha/\\xd1\\x9e\\xd0\\xb7\\xd0\\xb1\\xd0\\xb5\\xd0\\xba\\xd1\\x87\\xd0\\xb0' <===> Oʻzbekcha/ўзбекча\n",
      "b'\\xe0\\xa8\\xaa\\xe0\\xa9\\xb0\\xe0\\xa8\\x9c\\xe0\\xa8\\xbe\\xe0\\xa8\\xac\\xe0\\xa9\\x80' <===> ਪੰਜਾਬੀ\n",
      "b'\\xd9\\xbe\\xd9\\x86\\xd8\\xac\\xd8\\xa7\\xd8\\xa8\\xdb\\x8c' <===> پنجابی\n",
      "b'\\xd9\\xbe\\xda\\x9a\\xd8\\xaa\\xd9\\x88' <===> پښتو\n",
      "b'Plattd\\xc3\\xbc\\xc3\\xbctsch' <===> Plattdüütsch\n",
      "b'Polski' <===> Polski\n",
      "b'Portugu\\xc3\\xaas' <===> Português\n",
      "b'Rom\\xc3\\xa2n\\xc4\\x83' <===> Română\n",
      "b'Romani' <===> Romani\n",
      "b'\\xd0\\xa0\\xd1\\x83\\xd1\\x81\\xd1\\x81\\xd0\\xba\\xd0\\xb8\\xd0\\xb9' <===> Русский\n",
      "b'Seeltersk' <===> Seeltersk\n",
      "b'Shqip' <===> Shqip\n",
      "b'Simple English' <===> Simple English\n",
      "b'Sloven\\xc4\\x8dina' <===> Slovenčina\n",
      "b'\\xda\\xa9\\xd9\\x88\\xd8\\xb1\\xd8\\xaf\\xdb\\x8c\\xdb\\x8c \\xd9\\x86\\xd8\\xa7\\xd9\\x88\\xdb\\x95\\xd9\\x86\\xd8\\xaf\\xdb\\x8c' <===> کوردیی ناوەندی\n",
      "b'\\xd0\\xa1\\xd1\\x80\\xd0\\xbf\\xd1\\x81\\xd0\\xba\\xd0\\xb8 / srpski' <===> Српски / srpski\n",
      "b'Suomi' <===> Suomi\n",
      "b'Svenska' <===> Svenska\n",
      "b'Tagalog' <===> Tagalog\n",
      "b'\\xe0\\xae\\xa4\\xe0\\xae\\xae\\xe0\\xae\\xbf\\xe0\\xae\\xb4\\xe0\\xaf\\x8d' <===> தமிழ்\n",
      "b'\\xe0\\xb8\\xa0\\xe0\\xb8\\xb2\\xe0\\xb8\\xa9\\xe0\\xb8\\xb2\\xe0\\xb9\\x84\\xe0\\xb8\\x97\\xe0\\xb8\\xa2' <===> ภาษาไทย\n",
      "b'Taqbaylit' <===> Taqbaylit\n",
      "b'\\xd0\\xa2\\xd0\\xb0\\xd1\\x82\\xd0\\xb0\\xd1\\x80\\xd1\\x87\\xd0\\xb0/tatar\\xc3\\xa7a' <===> Татарча/tatarça\n",
      "b'\\xe0\\xb0\\xa4\\xe0\\xb1\\x86\\xe0\\xb0\\xb2\\xe0\\xb1\\x81\\xe0\\xb0\\x97\\xe0\\xb1\\x81' <===> తెలుగు\n",
      "b'\\xd0\\xa2\\xd0\\xbe\\xd2\\xb7\\xd0\\xb8\\xd0\\xba\\xd3\\xa3' <===> Тоҷикӣ\n",
      "b'T\\xc3\\xbcrk\\xc3\\xa7e' <===> Türkçe\n",
      "b'\\xd0\\xa3\\xd0\\xba\\xd1\\x80\\xd0\\xb0\\xd1\\x97\\xd0\\xbd\\xd1\\x81\\xd1\\x8c\\xd0\\xba\\xd0\\xb0' <===> Українська\n",
      "b'\\xd8\\xa7\\xd8\\xb1\\xd8\\xaf\\xd9\\x88' <===> اردو\n",
      "b'Ti\\xe1\\xba\\xbfng Vi\\xe1\\xbb\\x87t' <===> Tiếng Việt\n",
      "b'V\\xc3\\xb5ro' <===> Võro\n",
      "b'\\xe6\\x96\\x87\\xe8\\xa8\\x80' <===> 文言\n",
      "b'\\xe5\\x90\\xb4\\xe8\\xaf\\xad' <===> 吴语\n",
      "b'\\xd7\\x99\\xd7\\x99\\xd6\\xb4\\xd7\\x93\\xd7\\x99\\xd7\\xa9' <===> ייִדיש\n",
      "b'\\xe4\\xb8\\xad\\xe6\\x96\\x87' <===> 中文\n"
     ]
    }
   ],
   "source": [
    "with open(save_path, encoding='utf-8') as f:\n",
    "    main(f, 'utf-8', 'strict')"
   ]
  },
  {
   "cell_type": "markdown",
   "id": "b0e78865-f51e-42c1-859e-2c6da4e2e883",
   "metadata": {},
   "source": [
    "## Ex26"
   ]
  },
  {
   "cell_type": "code",
   "execution_count": 51,
   "id": "1beb9cf5-97df-4bb8-9378-ddb6f25bea10",
   "metadata": {},
   "outputs": [],
   "source": [
    "from urllib.request import urlretrieve\n",
    "import os\n",
    "\n",
    "# Download `exercise26.txt` if it is not available locally.\n",
    "url = 'http://learnpythonthehardway.org/python3/exercise26.txt'\n",
    "savepath = 'data/exercise26.txt'\n",
    "if not os.path.exists(savepath):\n",
    "    urlretrieve(url, savepath)"
   ]
  },
  {
   "cell_type": "code",
   "execution_count": 52,
   "id": "7afea002-4986-40f5-a212-a29c6074e172",
   "metadata": {},
   "outputs": [
    {
     "name": "stdout",
     "output_type": "stream",
     "text": [
      "print(\"How old are you?\", end=' ')\n",
      "age = input()\n",
      "print(\"How tall are you?\", end=' ')\n",
      "print(\"How much\n"
     ]
    }
   ],
   "source": [
    "with open(savepath, 'r') as f:\n",
    "    print(f.read()[:100])"
   ]
  },
  {
   "cell_type": "markdown",
   "id": "10ba6636-ced9-4ccc-9272-4d7fa525f077",
   "metadata": {},
   "source": [
    "```\n",
    "from sys import argv\n",
    "\n",
    "print(\"How old are you?\", end=' ')\n",
    "age = input()\n",
    "print(\"How tall are you?\", end=' ')\n",
    "height = input()\n",
    "print(\"How much do you weigh?\", end=' ')\n",
    "weight = input()\n",
    "\n",
    "print(f\"So, you're {age} years old, {height} cm tall and {weight} kg heavy.\")\n",
    "```"
   ]
  },
  {
   "cell_type": "markdown",
   "id": "8969870d-e9bc-4efd-9d95-444ba6614ca7",
   "metadata": {},
   "source": [
    "```\n",
    "# Unpack `argv` into two variables.\n",
    "# Commented out for debug.\n",
    "# script, filename = argv\n",
    "script, filename = ('script.py', 'data/test1.txt')\n",
    "txt = open(filename)\n",
    "print(f\"Here's your file {filename}:\")\n",
    "print(txt.read())\n",
    "\n",
    "print(\"Type the filename again:\")\n",
    "file_again = input(\"> \")\n",
    "txt_again = open(file_again)\n",
    "print(txt_again.read())\n",
    "\n",
    "txt.close()\n",
    "txt_again.close()\n",
    "```"
   ]
  },
  {
   "cell_type": "code",
   "execution_count": 53,
   "id": "216994a1-435e-4a4c-8c03-5d8c090df3ea",
   "metadata": {},
   "outputs": [
    {
     "name": "stdout",
     "output_type": "stream",
     "text": [
      "Let's practice everything.\n",
      "You'd need to know 'bout escapes with \\ that do \n",
      " newlines and \t tabs.\n",
      "--------------\n",
      "\n",
      "\tThe lovely world\n",
      "with logic so firmly planted\n",
      "cannot discern \n",
      " the needs of love\n",
      "nor comprehend passion from intuition\n",
      "and requires an explanation\n",
      "\n",
      "\t\twhere there is none.\n",
      "\n",
      "--------------\n",
      "This should be five: 3\n"
     ]
    }
   ],
   "source": [
    "print('Let\\'s practice everything.')\n",
    "print('You\\'d need to know \\'bout escapes with \\\\ that do \\n newlines and \\t tabs.')\n",
    "\n",
    "poem = \"\"\"\n",
    "\\tThe lovely world\n",
    "with logic so firmly planted\n",
    "cannot discern \\n the needs of love\n",
    "nor comprehend passion from intuition\n",
    "and requires an explanation\n",
    "\\n\\t\\twhere there is none.\n",
    "\"\"\"\n",
    "\n",
    "print(\"--------------\")\n",
    "print(poem)\n",
    "print(\"--------------\")\n",
    "\n",
    "\n",
    "five = 10 - 2 + 3 - 8\n",
    "print(f\"This should be five: {five}\")"
   ]
  },
  {
   "cell_type": "code",
   "execution_count": 54,
   "id": "0831c885-4eb4-45d0-a506-3cf5a9491a18",
   "metadata": {},
   "outputs": [
    {
     "name": "stdout",
     "output_type": "stream",
     "text": [
      "We can also do that this way:\n",
      "We'd have 500000.0 beans, 500.0 jars, and 5.0 crates.\n"
     ]
    }
   ],
   "source": [
    "print(\"We can also do that this way:\")\n",
    "formula = secret_formula(start_point)\n",
    "# this is an easy way to apply a list to a format string\n",
    "print(\"We'd have {} beans, {} jars, and {} crates.\".format(*formula))"
   ]
  },
  {
   "cell_type": "code",
   "execution_count": 55,
   "id": "94ed0e2b-2bb7-4b55-a0b2-98f0eb540d6d",
   "metadata": {},
   "outputs": [
    {
     "name": "stdout",
     "output_type": "stream",
     "text": [
      "Too many cats! The world is doomed!\n",
      "The world is dry!\n"
     ]
    }
   ],
   "source": [
    "people = 20\n",
    "cats = 30\n",
    "dogs = 15\n",
    "\n",
    "\n",
    "if people < cats:\n",
    "    print (\"Too many cats! The world is doomed!\")\n",
    "\n",
    "if people > cats:\n",
    "    print(\"Not many cats! The world is saved!\")\n",
    "\n",
    "if people < dogs:\n",
    "    print(\"The world is drooled on!\")\n",
    "\n",
    "if people > dogs:\n",
    "    print(\"The world is dry!\")"
   ]
  },
  {
   "cell_type": "code",
   "execution_count": 56,
   "id": "3bface4a-ae98-4c8f-b710-85d1b757dcaa",
   "metadata": {},
   "outputs": [
    {
     "name": "stdout",
     "output_type": "stream",
     "text": [
      "People are greater than or equal to dogs.\n",
      "People are less than or equal to dogs.\n",
      "People are dogs.\n"
     ]
    }
   ],
   "source": [
    "dogs += 5\n",
    "\n",
    "if people >= dogs:\n",
    "    print(\"People are greater than or equal to dogs.\")\n",
    "\n",
    "if people <= dogs:\n",
    "    print(\"People are less than or equal to dogs.\")\n",
    "\n",
    "if people == dogs:\n",
    "    print(\"People are dogs.\")"
   ]
  },
  {
   "cell_type": "code",
   "execution_count": 57,
   "id": "b9183189-681c-4db3-bc48-9a9dcf0dafb4",
   "metadata": {},
   "outputs": [],
   "source": [
    "def secret_formula(started):\n",
    "    jelly_beans = started * 500\n",
    "    jars = jelly_beans / 1000\n",
    "    crates = jars / 100\n",
    "    return jelly_beans, jars, crates\n",
    "\n",
    "\n",
    "start_point = 10000\n",
    "beans, jars, crates = secret_formula(start_point)"
   ]
  },
  {
   "cell_type": "code",
   "execution_count": 58,
   "id": "cf16eab3-da40-4d60-aa7f-239d3fd3be8f",
   "metadata": {},
   "outputs": [
    {
     "name": "stdout",
     "output_type": "stream",
     "text": [
      "We'd have 5000000 beans, 5000.0 jars, and 50.0 crates.\n"
     ]
    }
   ],
   "source": [
    "# it's just like with an f\"\" string\n",
    "print(f\"We'd have {beans} beans, {jars} jars, and {crates} crates.\")\n",
    "\n",
    "start_point = start_point / 10"
   ]
  },
  {
   "cell_type": "code",
   "execution_count": 60,
   "id": "5c921cd7-8c45-45a0-9983-ae00573e2ddf",
   "metadata": {},
   "outputs": [
    {
     "name": "stdout",
     "output_type": "stream",
     "text": [
      "With a starting point of: 1000.0\n"
     ]
    }
   ],
   "source": [
    "# remember that this is another way to format a string\n",
    "print(\"With a starting point of: {}\".format(start_point))"
   ]
  },
  {
   "cell_type": "code",
   "execution_count": null,
   "id": "ba7907b3-3976-4eec-a3f4-2b487ea30ec2",
   "metadata": {},
   "outputs": [],
   "source": []
  }
 ],
 "metadata": {
  "kernelspec": {
   "display_name": "Python 3 (ipykernel)",
   "language": "python",
   "name": "python3"
  },
  "language_info": {
   "codemirror_mode": {
    "name": "ipython",
    "version": 3
   },
   "file_extension": ".py",
   "mimetype": "text/x-python",
   "name": "python",
   "nbconvert_exporter": "python",
   "pygments_lexer": "ipython3",
   "version": "3.10.10"
  }
 },
 "nbformat": 4,
 "nbformat_minor": 5
}
