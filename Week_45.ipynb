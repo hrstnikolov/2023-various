{
  "nbformat": 4,
  "nbformat_minor": 0,
  "metadata": {
    "colab": {
      "provenance": [],
      "authorship_tag": "ABX9TyNAKPEFIXNPhsCMWsF2tk5x",
      "include_colab_link": true
    },
    "kernelspec": {
      "name": "python3",
      "display_name": "Python 3"
    },
    "language_info": {
      "name": "python"
    }
  },
  "cells": [
    {
      "cell_type": "markdown",
      "metadata": {
        "id": "view-in-github",
        "colab_type": "text"
      },
      "source": [
        "<a href=\"https://colab.research.google.com/github/hrstnikolov/2023-various/blob/main/Week_45.ipynb\" target=\"_parent\"><img src=\"https://colab.research.google.com/assets/colab-badge.svg\" alt=\"Open In Colab\"/></a>"
      ]
    },
    {
      "cell_type": "code",
      "execution_count": 1,
      "metadata": {
        "id": "Zz_tJan9rOwc"
      },
      "outputs": [],
      "source": [
        "# Week 45"
      ]
    },
    {
      "cell_type": "markdown",
      "source": [
        "# Week 45"
      ],
      "metadata": {
        "id": "F7UAzUikrnoh"
      }
    },
    {
      "cell_type": "code",
      "source": [],
      "metadata": {
        "id": "_sdlQR5QrihI"
      },
      "execution_count": null,
      "outputs": []
    }
  ]
}