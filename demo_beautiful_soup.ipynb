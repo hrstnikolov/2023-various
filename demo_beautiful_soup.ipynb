{
 "cells": [
  {
   "cell_type": "code",
   "execution_count": 53,
   "id": "dfe50016-8a27-487c-b2ca-75fd95448763",
   "metadata": {},
   "outputs": [],
   "source": [
    "%matplotlib inline"
   ]
  },
  {
   "cell_type": "code",
   "execution_count": 54,
   "id": "3ef1fb25-7e54-41e6-9492-f2b300d6c318",
   "metadata": {},
   "outputs": [],
   "source": [
    "import numpy as np\n",
    "import pandas as pd\n",
    "import matplotlib.pyplot as plt\n",
    "\n",
    "import requests\n",
    "from bs4 import BeautifulSoup"
   ]
  },
  {
   "cell_type": "markdown",
   "id": "827319ad-6603-46bd-a143-b07eb72453dc",
   "metadata": {
    "tags": []
   },
   "source": [
    "# Beautiful Soup Demo"
   ]
  },
  {
   "cell_type": "code",
   "execution_count": 55,
   "id": "c2949fe8-59f4-418d-a193-8e21da7f9223",
   "metadata": {},
   "outputs": [],
   "source": [
    "url = \"https://www.wikiwand.com/en/List_of_manufacturing_processes\"\n",
    "# url = 'https://en.wikipedia.org/wiki/Category:Industrial_processes'"
   ]
  },
  {
   "cell_type": "code",
   "execution_count": 56,
   "id": "2b95252b-fae0-43d4-99b6-c8f658a43a1c",
   "metadata": {},
   "outputs": [],
   "source": [
    "response = requests.get(url)"
   ]
  },
  {
   "cell_type": "code",
   "execution_count": 57,
   "id": "b833bfb9-0cae-4d1d-9317-cfe88de96716",
   "metadata": {},
   "outputs": [
    {
     "data": {
      "text/plain": [
       "'d is the world\\'s leading Wikipedia reader for web and mobile.\" /><meta property=\"og:site_name\" content=\"Wikiwand\" /><meta property=\"og:url\" content=\"https://wikiwand.com\" /><meta name=\"robots\" content=\"max-image-preview:large\" /><meta name=\"next-font-preconnect\" /><link rel=\"preload\" href=\"https://wikiwandv2-19431.kxcdn.com/_next/static/css/e4daa685bf5314c5.css\" as=\"style\" /><link rel=\"stylesheet\" href=\"https://wikiwandv2-19431.kxcdn.com/_next/static/css/e4daa685bf5314c5.css\" data-n-g /><link rel=\"preload\" href=\"https://wikiwandv2-19431.kxcdn.com/_next/static/css/7fc29310d570facb.css\" as=\"style\" /><link rel=\"stylesheet\" href=\"https://wikiwandv2-19431.kxcdn.com/_next/static/css/7fc29310d570facb.css\" data-n-p /><link rel=\"preload\" href=\"https://wikiwandv2-19431.kxcdn.com/_next/static/css/fc1ba4f62a818387.css\" as=\"style\" /><link rel=\"stylesheet\" href=\"https://wikiwandv2-19431.kxcdn.com/_next/static/css/fc1ba4f62a818387.css\" data-n-p /><noscript data-n-css></noscript><script defer noModule'"
      ]
     },
     "execution_count": 57,
     "metadata": {},
     "output_type": "execute_result"
    }
   ],
   "source": [
    "response.text[5000:6000]"
   ]
  },
  {
   "cell_type": "code",
   "execution_count": 58,
   "id": "d2df896a-b2d3-42f3-b8bc-f4dd5eedb91a",
   "metadata": {},
   "outputs": [],
   "source": [
    "soup = BeautifulSoup(response.text, \"html.parser\")"
   ]
  },
  {
   "cell_type": "code",
   "execution_count": 60,
   "id": "d3efb442-b4da-4fa2-a0f0-46ac30033da2",
   "metadata": {},
   "outputs": [
    {
     "data": {
      "text/plain": [
       "<p>This tree lists various <a class=\"wl\" href=\"/en/Manufacturing\" title=\"Manufacturing\">manufacturing</a> processes arranged by similarity of function.</p>"
      ]
     },
     "execution_count": 60,
     "metadata": {},
     "output_type": "execute_result"
    }
   ],
   "source": [
    "soup.p"
   ]
  },
  {
   "cell_type": "code",
   "execution_count": 71,
   "id": "cbda3fb4-8591-4500-b768-81c634ae0061",
   "metadata": {},
   "outputs": [
    {
     "name": "stdout",
     "output_type": "stream",
     "text": [
      "<li class=\"navbarMobile_item__PsAjJ\">\n",
      " <svg class=\"icon_icon__0vohI\" style=\"width: 2.5em; height: 2.5em; stroke: currentColor; fill: currentColor;\" xmlns=\"http://www.w3.org/2000/svg\">\n",
      "  <use href=\"/images/icons.svg#icon-wiki\">\n",
      "  </use>\n",
      " </svg>\n",
      "</li>\n",
      "\n"
     ]
    }
   ],
   "source": [
    "print(soup.body.div.li.prettify())"
   ]
  },
  {
   "cell_type": "code",
   "execution_count": 61,
   "id": "2d595149-9ecb-4eea-9d48-3a5a4cbec058",
   "metadata": {},
   "outputs": [
    {
     "data": {
      "text/plain": [
       "<title>List of manufacturing processes - Wikiwand</title>"
      ]
     },
     "execution_count": 61,
     "metadata": {},
     "output_type": "execute_result"
    }
   ],
   "source": [
    "soup.title"
   ]
  },
  {
   "cell_type": "code",
   "execution_count": 62,
   "id": "c7e0ae5d-df87-4620-be83-ff20bbf4b0bf",
   "metadata": {},
   "outputs": [
    {
     "data": {
      "text/plain": [
       "'List of manufacturing processes - Wikiwand'"
      ]
     },
     "execution_count": 62,
     "metadata": {},
     "output_type": "execute_result"
    }
   ],
   "source": [
    "soup.title.string"
   ]
  },
  {
   "cell_type": "code",
   "execution_count": 63,
   "id": "6246ad93-a4eb-4ee5-a838-0235b57f26cd",
   "metadata": {},
   "outputs": [
    {
     "data": {
      "text/plain": [
       "'title'"
      ]
     },
     "execution_count": 63,
     "metadata": {},
     "output_type": "execute_result"
    }
   ],
   "source": [
    "soup.title.name"
   ]
  },
  {
   "cell_type": "code",
   "execution_count": 64,
   "id": "b3526ad4-6a99-476e-adfe-b012f96e22f6",
   "metadata": {},
   "outputs": [],
   "source": [
    "soup.heading1"
   ]
  },
  {
   "cell_type": "code",
   "execution_count": 65,
   "id": "47824870-4a1d-455b-9cfb-5fdf06f9bf51",
   "metadata": {},
   "outputs": [
    {
     "data": {
      "text/plain": [
       "<a class=\"desktop_logo__HbG02\" href=\"/\"><svg class=\"logo_logo__AXqd6\" xmlns=\"http://www.w3.org/2000/svg\"><use href=\"/images/logo.svg#theme-auto\"></use></svg></a>"
      ]
     },
     "execution_count": 65,
     "metadata": {},
     "output_type": "execute_result"
    }
   ],
   "source": [
    "soup.a"
   ]
  },
  {
   "cell_type": "code",
   "execution_count": 42,
   "id": "6eb19a24-926d-4221-880d-aa672e1f2f3c",
   "metadata": {},
   "outputs": [
    {
     "data": {
      "text/plain": [
       "28"
      ]
     },
     "execution_count": 42,
     "metadata": {},
     "output_type": "execute_result"
    }
   ],
   "source": [
    "len(soup.find_all('a'))"
   ]
  },
  {
   "cell_type": "code",
   "execution_count": 43,
   "id": "d0fa1dbd-b763-4446-96bc-b39bb441e84a",
   "metadata": {},
   "outputs": [
    {
     "name": "stdout",
     "output_type": "stream",
     "text": [
      "/\n",
      "#introduction\n",
      "#Casting\n",
      "#Labeling_and_painting\n",
      "#Moulding\n",
      "#Forming\n",
      "#Machining\n",
      "#Joining\n",
      "#Additive_manufacturing\n",
      "#Other\n",
      "#See_also\n",
      "#References\n",
      "/en/Manufacturing\n",
      "/en/File:Thermal-oxidizer-install.jpg\n",
      "/en/Thermal_oxidiser\n",
      "/en/Molding_(process)\n",
      "/en/Thermoforming\n",
      "/en/Machining\n",
      "/\n",
      "/about\n",
      "/faq\n",
      "/press\n",
      "/sitemap\n",
      "/terms\n",
      "/privacy\n",
      "https://twitter.com/wikiwand\n",
      "https://www.facebook.com/wikiwandapp\n",
      "https://www.linkedin.com/company/wikiwand\n"
     ]
    }
   ],
   "source": [
    "for link in soup.find_all('a'):\n",
    "    print(link['href'])"
   ]
  },
  {
   "cell_type": "code",
   "execution_count": 44,
   "id": "369d9746-92ae-4a42-bc79-d910b02f2c7d",
   "metadata": {},
   "outputs": [
    {
     "name": "stdout",
     "output_type": "stream",
     "text": [
      "/\n",
      "#introduction\n",
      "#Casting\n",
      "#Labeling_and_painting\n",
      "#Moulding\n",
      "#Forming\n",
      "#Machining\n",
      "#Joining\n",
      "#Additive_manufacturing\n",
      "#Other\n",
      "#See_also\n",
      "#References\n",
      "/en/Manufacturing\n",
      "/en/File:Thermal-oxidizer-install.jpg\n",
      "/en/Thermal_oxidiser\n",
      "/en/Molding_(process)\n",
      "/en/Thermoforming\n",
      "/en/Machining\n",
      "/\n",
      "/about\n",
      "/faq\n",
      "/press\n",
      "/sitemap\n",
      "/terms\n",
      "/privacy\n",
      "https://twitter.com/wikiwand\n",
      "https://www.facebook.com/wikiwandapp\n",
      "https://www.linkedin.com/company/wikiwand\n"
     ]
    }
   ],
   "source": [
    "for link in soup.find_all('a'):\n",
    "    print(link.get('href'))"
   ]
  },
  {
   "cell_type": "code",
   "execution_count": 45,
   "id": "a985d4af-dcc3-4a7c-8187-86494974b521",
   "metadata": {},
   "outputs": [
    {
     "name": "stdout",
     "output_type": "stream",
     "text": [
      "List of manufacturing processes - WikiwandIntroductionList of manufacturing processesCastingLabeling and paintingMouldingFormingMachiningJoiningAdditive manufacturingOtherSee alsoReferencesList of manufacturing processes From Wikipedia, the free  encyclopedia    This tree lists various manufacturing processes arranged by similarity of function.\n",
      "A thermal oxidizer blends several manufacturing processes such as molding, forming, machining, etc.\n",
      "\n",
      "\n",
      "\n",
      "HomeAbout usFAQPressSite mapTerms of servicePrivacy policy \n"
     ]
    }
   ],
   "source": [
    "print(soup.get_text())"
   ]
  }
 ],
 "metadata": {
  "kernelspec": {
   "display_name": "Python 3 (ipykernel)",
   "language": "python",
   "name": "python3"
  },
  "language_info": {
   "codemirror_mode": {
    "name": "ipython",
    "version": 3
   },
   "file_extension": ".py",
   "mimetype": "text/x-python",
   "name": "python",
   "nbconvert_exporter": "python",
   "pygments_lexer": "ipython3",
   "version": "3.10.10"
  }
 },
 "nbformat": 4,
 "nbformat_minor": 5
}
