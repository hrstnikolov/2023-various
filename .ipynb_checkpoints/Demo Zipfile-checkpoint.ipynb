{
 "cells": [
  {
   "cell_type": "code",
   "execution_count": 1,
   "id": "35e27c56-dff1-42d7-8efe-1ad60b1aec0b",
   "metadata": {},
   "outputs": [],
   "source": [
    "%matplotlib inline"
   ]
  },
  {
   "cell_type": "code",
   "execution_count": 1,
   "id": "fdbe6856-b4c9-4748-9413-90dc742bf425",
   "metadata": {},
   "outputs": [],
   "source": [
    "import numpy as np\n",
    "import pandas as pd\n",
    "import matplotlib.pyplot as plt\n",
    "\n",
    "import zipfile\n",
    "import pathlib"
   ]
  },
  {
   "cell_type": "markdown",
   "id": "b7862068-b793-4f48-91a9-e26a22007d8f",
   "metadata": {},
   "source": [
    "# Demo Zipfile"
   ]
  },
  {
   "cell_type": "code",
   "execution_count": 9,
   "id": "1d954c7f-35d1-4d43-b0d4-b70171e8de52",
   "metadata": {},
   "outputs": [
    {
     "name": "stdout",
     "output_type": "stream",
     "text": [
      "File Name                                             Modified             Size\n",
      "dummy1.txt                                     2023-05-09 21:37:58            9\n",
      "dummy2.txt                                     2023-05-09 21:37:56           14\n",
      "[<ZipInfo filename='dummy1.txt' external_attr=0x20 file_size=9>, <ZipInfo filename='dummy2.txt' external_attr=0x20 file_size=14>]\n",
      "\n",
      "data/compressed.zip\n",
      "\n",
      "[<ZipInfo filename='dummy1.txt' external_attr=0x20 file_size=9>, <ZipInfo filename='dummy2.txt' external_attr=0x20 file_size=14>]\n",
      "\n",
      "r\n",
      "\n",
      "None\n",
      "\n",
      "None\n",
      "\n",
      "['dummy1.txt', 'dummy2.txt']\n"
     ]
    }
   ],
   "source": [
    "with zipfile.ZipFile('data/compressed.zip', 'r') as z:\n",
    "    print(z.filelist, z.filename, z.infolist(),\n",
    "          z.mode, z.printdir(), z.pwd, z.namelist(), sep='\\n\\n')"
   ]
  },
  {
   "cell_type": "code",
   "execution_count": 10,
   "id": "65bdedd9-f8dd-4e79-9020-4d454c7de37d",
   "metadata": {},
   "outputs": [
    {
     "data": {
      "text/plain": [
       "['Some text', 'Other sentence']"
      ]
     },
     "execution_count": 10,
     "metadata": {},
     "output_type": "execute_result"
    }
   ],
   "source": [
    "contents = []\n",
    "\n",
    "# Open the zipfile for reading\n",
    "with zipfile.ZipFile('data/compressed.zip') as myzip:\n",
    "    \n",
    "    # Create a list of filenames\n",
    "    filenames = myzip.namelist()\n",
    "    \n",
    "    # Read the contents of the files into a variable\n",
    "    for filename in filenames:\n",
    "        with myzip.open(filename) as myfile:\n",
    "            content = myfile.read().decode('utf-8')\n",
    "            contents.append(content)\n",
    "            \n",
    "contents"
   ]
  },
  {
   "cell_type": "code",
   "execution_count": null,
   "id": "e0324ed7-e91a-4cd1-8e73-8b4852813eae",
   "metadata": {},
   "outputs": [],
   "source": []
  }
 ],
 "metadata": {
  "kernelspec": {
   "display_name": "Python 3 (ipykernel)",
   "language": "python",
   "name": "python3"
  },
  "language_info": {
   "codemirror_mode": {
    "name": "ipython",
    "version": 3
   },
   "file_extension": ".py",
   "mimetype": "text/x-python",
   "name": "python",
   "nbconvert_exporter": "python",
   "pygments_lexer": "ipython3",
   "version": "3.10.10"
  }
 },
 "nbformat": 4,
 "nbformat_minor": 5
}
