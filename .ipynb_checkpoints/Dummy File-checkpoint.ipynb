{
 "cells": [
  {
   "cell_type": "code",
   "execution_count": 1,
   "id": "acbd7633-9a07-49d7-8b87-281fcf50c5f2",
   "metadata": {},
   "outputs": [],
   "source": [
    "%matplotlib inline"
   ]
  },
  {
   "cell_type": "code",
   "execution_count": 2,
   "id": "133a5ab4-dd59-4606-b4e4-d50d8672f9ca",
   "metadata": {},
   "outputs": [],
   "source": [
    "import numpy as np\n",
    "import pandas as pd\n",
    "import matplotlib.pyplot as plt"
   ]
  },
  {
   "cell_type": "markdown",
   "id": "a1b38925-56ec-4fc9-8606-ff74d18347f2",
   "metadata": {},
   "source": [
    "# Dummy File"
   ]
  },
  {
   "cell_type": "code",
   "execution_count": null,
   "id": "da613708-5d35-4b42-bfb5-9c9f7c565454",
   "metadata": {},
   "outputs": [],
   "source": []
  }
 ],
 "metadata": {
  "kernelspec": {
   "display_name": "Python 3 (ipykernel)",
   "language": "python",
   "name": "python3"
  },
  "language_info": {
   "codemirror_mode": {
    "name": "ipython",
    "version": 3
   },
   "file_extension": ".py",
   "mimetype": "text/x-python",
   "name": "python",
   "nbconvert_exporter": "python",
   "pygments_lexer": "ipython3",
   "version": "3.10.10"
  }
 },
 "nbformat": 4,
 "nbformat_minor": 5
}
