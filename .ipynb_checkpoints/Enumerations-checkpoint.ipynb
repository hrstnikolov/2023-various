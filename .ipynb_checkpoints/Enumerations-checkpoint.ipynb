{
 "cells": [
  {
   "cell_type": "markdown",
   "id": "6331a49e-81c8-41cb-ace7-4429f8066e63",
   "metadata": {},
   "source": [
    "# Enums"
   ]
  },
  {
   "cell_type": "markdown",
   "id": "f86b7338-38b3-407c-aba2-ffe6902ad665",
   "metadata": {},
   "source": [
    "- custom exeption\n",
    "- `Enum` child\n",
    "- dataclass\n"
   ]
  },
  {
   "cell_type": "code",
   "execution_count": 48,
   "id": "5b39d58a-f2e5-472c-bf6c-dd3988f2eea0",
   "metadata": {},
   "outputs": [],
   "source": [
    "from enum import Enum, auto\n",
    "import IPython\n",
    "import re"
   ]
  },
  {
   "cell_type": "markdown",
   "id": "57fdbb1d-c886-4b52-882f-b0633aa8e562",
   "metadata": {
    "tags": []
   },
   "source": [
    "## `enum` part 1\n",
    "\n",
    "- Enums are used to represent constants."
   ]
  },
  {
   "cell_type": "code",
   "execution_count": 2,
   "id": "173860e6-bcc3-42de-9f5e-144b653f465a",
   "metadata": {},
   "outputs": [],
   "source": [
    "from enum import Enum\n",
    "\n",
    "# `RED` is a symbolic name.\n",
    "# `1` is a unique value.\n",
    "\n",
    "\n",
    "class Color(Enum):\n",
    "    RED = 1\n",
    "    BLUE = 2\n",
    "    GREEN = 3"
   ]
  },
  {
   "cell_type": "code",
   "execution_count": 3,
   "id": "b72e64fd-eb8d-4e93-90d1-70c110ecb871",
   "metadata": {},
   "outputs": [
    {
     "data": {
      "text/plain": [
       "<enum 'Color'>"
      ]
     },
     "execution_count": 3,
     "metadata": {},
     "output_type": "execute_result"
    }
   ],
   "source": [
    "# Color.RED is an enum object, it is not just str value.\n",
    "type(Color.RED)"
   ]
  },
  {
   "cell_type": "code",
   "execution_count": 4,
   "id": "592687c9-cf45-4027-b61e-710a7fe93e64",
   "metadata": {},
   "outputs": [],
   "source": [
    "# `MONDAY = 1` is the first member.\n",
    "# `MONDAY` is the name of the member.\n",
    "# `1` is the value of the member.\n",
    "class Weekday(Enum):\n",
    "    MONDAY = 1\n",
    "    TUESDAY = 2\n",
    "    WEDNESDAY = 3\n",
    "    THURSDAY = 4\n",
    "    FRIDAY = 5\n",
    "    SATURDAY = 6\n",
    "    SUNDAY = 7"
   ]
  },
  {
   "cell_type": "code",
   "execution_count": 5,
   "id": "f00ce637-1d37-44d4-b8dc-31212ed8244d",
   "metadata": {},
   "outputs": [
    {
     "data": {
      "text/plain": [
       "<Weekday.THURSDAY: 4>"
      ]
     },
     "execution_count": 5,
     "metadata": {},
     "output_type": "execute_result"
    }
   ],
   "source": [
    "# `repr()` shows the enum name, the member name and value.\n",
    "Weekday(4)"
   ]
  },
  {
   "cell_type": "code",
   "execution_count": 6,
   "id": "87a88eb4-b364-465f-89a4-1c6495c1769e",
   "metadata": {},
   "outputs": [
    {
     "name": "stdout",
     "output_type": "stream",
     "text": [
      "Weekday.THURSDAY\n",
      "Weekday.FRIDAY\n"
     ]
    }
   ],
   "source": [
    "# `str()` shows the enum name and member value.\n",
    "print(Weekday(4))\n",
    "print(Weekday.FRIDAY)"
   ]
  },
  {
   "cell_type": "code",
   "execution_count": 7,
   "id": "66395d6e-7bc5-4e9e-9eb0-6a882c73865e",
   "metadata": {},
   "outputs": [
    {
     "data": {
      "text/plain": [
       "<Weekday.FRIDAY: 5>"
      ]
     },
     "execution_count": 7,
     "metadata": {},
     "output_type": "execute_result"
    }
   ],
   "source": [
    "# Access the member by name. Two ways (=access syntaxes):\n",
    "\n",
    "# attribute access syntax\n",
    "Weekday.FRIDAY\n",
    "\n",
    "# item access syntax (like a dict)\n",
    "Weekday['FRIDAY']"
   ]
  },
  {
   "cell_type": "code",
   "execution_count": 8,
   "id": "51591e5d-47cb-4d95-b25b-f15b9301fb5b",
   "metadata": {},
   "outputs": [
    {
     "name": "stdout",
     "output_type": "stream",
     "text": [
      "THURSDAY\n"
     ]
    }
   ],
   "source": [
    "# Access the member name.\n",
    "print(Weekday.THURSDAY.name)"
   ]
  },
  {
   "cell_type": "code",
   "execution_count": 9,
   "id": "e92b8cf6-5eff-41d6-8a8a-c6aa8036a77b",
   "metadata": {},
   "outputs": [
    {
     "name": "stdout",
     "output_type": "stream",
     "text": [
      "4\n"
     ]
    }
   ],
   "source": [
    "# Access the member value.\n",
    "print(Weekday.THURSDAY.value)"
   ]
  },
  {
   "cell_type": "code",
   "execution_count": 10,
   "id": "908e101e-afdb-4e4e-9898-801b4395e558",
   "metadata": {},
   "outputs": [
    {
     "data": {
      "text/plain": [
       "<Weekday.THURSDAY: 4>"
      ]
     },
     "execution_count": 10,
     "metadata": {},
     "output_type": "execute_result"
    }
   ],
   "source": [
    "# Access the member by value.\n",
    "Weekday(4)"
   ]
  },
  {
   "cell_type": "code",
   "execution_count": 11,
   "id": "6a3cdc6b-f946-4b3c-896b-6605fe58687c",
   "metadata": {},
   "outputs": [
    {
     "data": {
      "text/plain": [
       "\u001b[1;31mType:\u001b[0m        Weekday\n",
       "\u001b[1;31mString form:\u001b[0m Weekday.FRIDAY\n",
       "\u001b[1;31mDocstring:\u001b[0m   An enumeration."
      ]
     },
     "metadata": {},
     "output_type": "display_data"
    }
   ],
   "source": [
    "# Print member info.\n",
    "Weekday.FRIDAY?"
   ]
  },
  {
   "cell_type": "code",
   "execution_count": 12,
   "id": "754c8d92-eb29-4049-9b17-2a9daf45256a",
   "metadata": {},
   "outputs": [
    {
     "data": {
      "text/plain": [
       "\u001b[1;31mInit signature:\u001b[0m\n",
       "\u001b[0mWeekday\u001b[0m\u001b[1;33m(\u001b[0m\u001b[1;33m\n",
       "\u001b[0m    \u001b[0mvalue\u001b[0m\u001b[1;33m,\u001b[0m\u001b[1;33m\n",
       "\u001b[0m    \u001b[0mnames\u001b[0m\u001b[1;33m=\u001b[0m\u001b[1;32mNone\u001b[0m\u001b[1;33m,\u001b[0m\u001b[1;33m\n",
       "\u001b[0m    \u001b[1;33m*\u001b[0m\u001b[1;33m,\u001b[0m\u001b[1;33m\n",
       "\u001b[0m    \u001b[0mmodule\u001b[0m\u001b[1;33m=\u001b[0m\u001b[1;32mNone\u001b[0m\u001b[1;33m,\u001b[0m\u001b[1;33m\n",
       "\u001b[0m    \u001b[0mqualname\u001b[0m\u001b[1;33m=\u001b[0m\u001b[1;32mNone\u001b[0m\u001b[1;33m,\u001b[0m\u001b[1;33m\n",
       "\u001b[0m    \u001b[0mtype\u001b[0m\u001b[1;33m=\u001b[0m\u001b[1;32mNone\u001b[0m\u001b[1;33m,\u001b[0m\u001b[1;33m\n",
       "\u001b[0m    \u001b[0mstart\u001b[0m\u001b[1;33m=\u001b[0m\u001b[1;36m1\u001b[0m\u001b[1;33m,\u001b[0m\u001b[1;33m\n",
       "\u001b[0m\u001b[1;33m)\u001b[0m\u001b[1;33m\u001b[0m\u001b[1;33m\u001b[0m\u001b[0m\n",
       "\u001b[1;31mDocstring:\u001b[0m      An enumeration.\n",
       "\u001b[1;31mType:\u001b[0m           EnumMeta\n",
       "\u001b[1;31mSubclasses:\u001b[0m     "
      ]
     },
     "metadata": {},
     "output_type": "display_data"
    }
   ],
   "source": [
    "# Print class infp.\n",
    "Weekday?"
   ]
  },
  {
   "cell_type": "markdown",
   "id": "6c6a1d47-db97-4844-a793-439157c4593e",
   "metadata": {
    "tags": []
   },
   "source": [
    "## `enum` part 2"
   ]
  },
  {
   "cell_type": "code",
   "execution_count": 13,
   "id": "ea7e9e31-babe-4726-8ffe-fbbf42856214",
   "metadata": {},
   "outputs": [],
   "source": [
    "# Fixed set of values. In this case: roles in a company.\n",
    "MANAGER = 'MANAGER'\n",
    "SUPERVISOR = 'SUPERVISOR'\n",
    "INTERN = 'INTERN'\n",
    "\n",
    "# Enum provides a way to represent the set of values\n",
    "# as class attributes.\n",
    "\n",
    "\n",
    "class EmployeePosition(Enum):\n",
    "    MANAGER = 'MANAGER'\n",
    "    SUPERVISOR = 'SUPERVISOR'\n",
    "    INTERN = 'INTERN'\n",
    "\n",
    "\n",
    "# Use `EmployeePosition.MANAGER` instead of `MANAGER`.\n",
    "\n",
    "# Enumerations have advantages over simple class\n",
    "# attributes or global constants."
   ]
  },
  {
   "cell_type": "code",
   "execution_count": 14,
   "id": "80bf9abe-307a-4a3e-bc5e-50d13a98d2ac",
   "metadata": {},
   "outputs": [],
   "source": [
    "# Define enumeration (class).\n",
    "class MyEnum(Enum):\n",
    "    pass\n",
    "\n",
    "# Define members as class attributes.\n",
    "\n",
    "\n",
    "class MyEnum(Enum):\n",
    "    MEMBER1 = 3\n",
    "    MEMBER2 = 2\n",
    "    MEMBER3 = auto()  # automatically assigned value"
   ]
  },
  {
   "cell_type": "code",
   "execution_count": 15,
   "id": "4cf4c412-3f4b-4753-b7c3-05f9beebbfe5",
   "metadata": {},
   "outputs": [
    {
     "name": "stdout",
     "output_type": "stream",
     "text": [
      "3\n"
     ]
    }
   ],
   "source": [
    "# Access the value of a member.\n",
    "print(MyEnum.MEMBER3.value)"
   ]
  },
  {
   "cell_type": "code",
   "execution_count": 16,
   "id": "152a5da6-ae49-4132-8476-876580b72836",
   "metadata": {},
   "outputs": [
    {
     "name": "stdout",
     "output_type": "stream",
     "text": [
      "EmployeePosition.MANAGER\n",
      "EmployeePosition.SUPERVISOR\n",
      "EmployeePosition.INTERN\n"
     ]
    }
   ],
   "source": [
    "# Iterate over the members.\n",
    "for position in EmployeePosition:\n",
    "    print(position)"
   ]
  },
  {
   "cell_type": "markdown",
   "id": "2ef04d00-62a8-4425-8ebb-16a645d4b2cb",
   "metadata": {
    "tags": []
   },
   "source": [
    "## `enum` use cases"
   ]
  },
  {
   "cell_type": "code",
   "execution_count": 17,
   "id": "ef85a4c4-a2f4-41a5-9d35-b606d4e4f623",
   "metadata": {},
   "outputs": [
    {
     "name": "stdout",
     "output_type": "stream",
     "text": [
      "It's a weekday.\n",
      "It's the weekend!\n"
     ]
    }
   ],
   "source": [
    "# Represent choices or options.\n",
    "# To ensure valid input.\n",
    "\n",
    "class Weekday(Enum):\n",
    "    MONDAY = 1\n",
    "    TUESDAY = 2\n",
    "    WEDNESDAY = 3\n",
    "    THURSDAY = 4\n",
    "    FRIDAY = 5\n",
    "    SATURDAY = 6\n",
    "    SUNDAY = 7\n",
    "\n",
    "\n",
    "def process_weekday(day):\n",
    "    if day in (Weekday.SATURDAY, Weekday.SUNDAY):\n",
    "        print(\"It's the weekend!\")\n",
    "    else:\n",
    "        print(\"It's a weekday.\")\n",
    "\n",
    "\n",
    "# Weekday.SATURDAY != 6\n",
    "# Weekday.SATURDAY is an enum object, not just str value.\n",
    "process_weekday(6)\n",
    "process_weekday(Weekday.SATURDAY)"
   ]
  },
  {
   "cell_type": "code",
   "execution_count": 18,
   "id": "2cc5b516-8161-4192-b381-a208ce3fd122",
   "metadata": {},
   "outputs": [],
   "source": [
    "# TypeError: unsupported operand type(s) for |\n",
    "# Weekday.MONDAY | Weekday.TUESDAY"
   ]
  },
  {
   "cell_type": "code",
   "execution_count": 19,
   "id": "09fccb23-f1ca-41f2-9ddd-c6e9299c847f",
   "metadata": {},
   "outputs": [
    {
     "name": "stdout",
     "output_type": "stream",
     "text": [
      "You can go.\n"
     ]
    }
   ],
   "source": [
    "# Represent states.\n",
    "class TrafficLight(Enum):\n",
    "    GREEN = 'Go'\n",
    "    YELLOW = 'Prepare to stop'\n",
    "    RED = 'Stop'\n",
    "\n",
    "\n",
    "def process_traffic_light(light):\n",
    "    if light == TrafficLight.GREEN:\n",
    "        print(\"You can go.\")\n",
    "    elif light == TrafficLight.YELLOW:\n",
    "        print(\"Prepare to stop.\")\n",
    "    elif light == TrafficLight.RED:\n",
    "        print(\"Stop.\")\n",
    "\n",
    "\n",
    "process_traffic_light('sdsdsd')  # Output: None\n",
    "process_traffic_light('Go')  # Output: None\n",
    "process_traffic_light('Stop')  # Output: None\n",
    "process_traffic_light(TrafficLight.GREEN)  # Output: 'You can go.'"
   ]
  },
  {
   "cell_type": "code",
   "execution_count": 20,
   "id": "ede65c1f-0e22-4e18-ab5d-f6acee34a3ef",
   "metadata": {},
   "outputs": [
    {
     "data": {
      "text/plain": [
       "<enum 'TrafficLight'>"
      ]
     },
     "execution_count": 20,
     "metadata": {},
     "output_type": "execute_result"
    }
   ],
   "source": [
    "type(TrafficLight.GREEN)"
   ]
  },
  {
   "cell_type": "code",
   "execution_count": 31,
   "id": "50d74eff-fe52-4ff7-8f0a-faa269179dbb",
   "metadata": {},
   "outputs": [],
   "source": [
    "# TypeError: unsupported operand type(s) for |\n",
    "# TrafficLight.GREEN | TrafficLight.YELLOW"
   ]
  },
  {
   "cell_type": "markdown",
   "id": "4942607a-112b-44d6-8634-7d681b1ed225",
   "metadata": {
    "tags": []
   },
   "source": [
    "## `enum` automatic values"
   ]
  },
  {
   "cell_type": "code",
   "execution_count": 22,
   "id": "e927ec2c-9aca-4506-8079-7095b65917d4",
   "metadata": {},
   "outputs": [
    {
     "data": {
      "text/plain": [
       "[3, 4, -23, -22]"
      ]
     },
     "execution_count": 22,
     "metadata": {},
     "output_type": "execute_result"
    }
   ],
   "source": [
    "# Showcase how `auto()` class works.\n",
    "class MotorFamily(Enum):\n",
    "    INDUCTION = 3\n",
    "    RELUCTANCE = auto()\n",
    "    DC = -23\n",
    "    AC = auto()\n",
    "\n",
    "\n",
    "[member.value for member in MotorFamily]"
   ]
  },
  {
   "cell_type": "code",
   "execution_count": 23,
   "id": "2f762820-17ae-4b80-96da-dc6194585f2a",
   "metadata": {},
   "outputs": [
    {
     "data": {
      "text/plain": [
       "['NORTH', 'SOUTH', 'EAST', 'WEST']"
      ]
     },
     "execution_count": 23,
     "metadata": {},
     "output_type": "execute_result"
    }
   ],
   "source": [
    "# Custom automatic values.\n",
    "class AutoName(Enum):\n",
    "    def _generate_next_value_(name, start, count, last_values):\n",
    "        return name\n",
    "\n",
    "\n",
    "class CompassDirection(AutoName):\n",
    "    NORTH = auto()\n",
    "    SOUTH = auto()\n",
    "    EAST = auto()\n",
    "    WEST = auto()\n",
    "\n",
    "\n",
    "[member.value for member in CompassDirection]"
   ]
  },
  {
   "cell_type": "markdown",
   "id": "0e599705-ddb2-40c4-a1a1-34c3af217c45",
   "metadata": {},
   "source": [
    "## `enum` part 3"
   ]
  },
  {
   "cell_type": "code",
   "execution_count": 24,
   "id": "554380ef-e4d5-49bf-9dac-b3f15e3d333b",
   "metadata": {},
   "outputs": [
    {
     "data": {
      "text/plain": [
       "[<CompassDirection.NORTH: 'NORTH'>,\n",
       " <CompassDirection.SOUTH: 'SOUTH'>,\n",
       " <CompassDirection.EAST: 'EAST'>,\n",
       " <CompassDirection.WEST: 'WEST'>]"
      ]
     },
     "execution_count": 24,
     "metadata": {},
     "output_type": "execute_result"
    }
   ],
   "source": [
    "list(CompassDirection)"
   ]
  },
  {
   "cell_type": "code",
   "execution_count": 25,
   "id": "d556c7a2-67ab-47b8-b876-a3147f33a3d3",
   "metadata": {},
   "outputs": [
    {
     "data": {
      "text/plain": [
       "mappingproxy({'MONDAY': <Weekday.MONDAY: 1>,\n",
       "              'TUESDAY': <Weekday.TUESDAY: 2>,\n",
       "              'WEDNESDAY': <Weekday.WEDNESDAY: 3>,\n",
       "              'THURSDAY': <Weekday.THURSDAY: 4>,\n",
       "              'FRIDAY': <Weekday.FRIDAY: 5>,\n",
       "              'SATURDAY': <Weekday.SATURDAY: 6>,\n",
       "              'SUNDAY': <Weekday.SUNDAY: 7>})"
      ]
     },
     "execution_count": 25,
     "metadata": {},
     "output_type": "execute_result"
    }
   ],
   "source": [
    "Weekday.__members__"
   ]
  },
  {
   "cell_type": "code",
   "execution_count": null,
   "id": "7093599e-005f-4bc8-be9f-1202f534d357",
   "metadata": {},
   "outputs": [],
   "source": []
  },
  {
   "cell_type": "code",
   "execution_count": null,
   "id": "bbe0e578-340d-4946-94a0-56acc24650af",
   "metadata": {},
   "outputs": [],
   "source": []
  }
 ],
 "metadata": {
  "kernelspec": {
   "display_name": "Python 3 (ipykernel)",
   "language": "python",
   "name": "python3"
  },
  "language_info": {
   "codemirror_mode": {
    "name": "ipython",
    "version": 3
   },
   "file_extension": ".py",
   "mimetype": "text/x-python",
   "name": "python",
   "nbconvert_exporter": "python",
   "pygments_lexer": "ipython3",
   "version": "3.10.10"
  }
 },
 "nbformat": 4,
 "nbformat_minor": 5
}
