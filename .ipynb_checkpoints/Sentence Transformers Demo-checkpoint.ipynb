{
 "cells": [
  {
   "cell_type": "markdown",
   "id": "036799ac-ac3a-401b-a303-68a5cbb78685",
   "metadata": {},
   "source": [
    "# Sentence Transformers Demonstrations"
   ]
  },
  {
   "cell_type": "markdown",
   "id": "f51657d1-aa98-4208-9746-37a7ee3e0858",
   "metadata": {
    "tags": []
   },
   "source": [
    "## Imports and setup"
   ]
  },
  {
   "cell_type": "code",
   "execution_count": 1,
   "id": "c7e27f51-039e-4bed-9c61-b86a3bd53b42",
   "metadata": {},
   "outputs": [],
   "source": [
    "import numpy as np\n",
    "import pandas as pd\n",
    "import matplotlib.pyplot as plt\n",
    "\n",
    "from sentence_transformers import SentenceTransformer, util\n",
    "from sklearn.metrics.pairwise import cosine_similarity"
   ]
  },
  {
   "cell_type": "markdown",
   "id": "8efa2ea6-aaa8-4133-aa77-f0f8e7b573ce",
   "metadata": {
    "tags": []
   },
   "source": [
    "## Basic usage"
   ]
  },
  {
   "cell_type": "markdown",
   "id": "05496896-7def-4977-98ab-c2f4af08ab63",
   "metadata": {
    "jp-MarkdownHeadingCollapsed": true,
    "tags": []
   },
   "source": [
    "Compute the embeddings of several sentences:"
   ]
  },
  {
   "cell_type": "code",
   "execution_count": 2,
   "id": "278d040b-e4bf-4313-be54-03be4bac0d84",
   "metadata": {},
   "outputs": [
    {
     "data": {
      "text/html": [
       "<div>\n",
       "<style scoped>\n",
       "    .dataframe tbody tr th:only-of-type {\n",
       "        vertical-align: middle;\n",
       "    }\n",
       "\n",
       "    .dataframe tbody tr th {\n",
       "        vertical-align: top;\n",
       "    }\n",
       "\n",
       "    .dataframe thead th {\n",
       "        text-align: right;\n",
       "    }\n",
       "</style>\n",
       "<table border=\"1\" class=\"dataframe\">\n",
       "  <thead>\n",
       "    <tr style=\"text-align: right;\">\n",
       "      <th></th>\n",
       "      <th>sentence</th>\n",
       "      <th>embedding</th>\n",
       "      <th>embedding shape</th>\n",
       "    </tr>\n",
       "  </thead>\n",
       "  <tbody>\n",
       "    <tr>\n",
       "      <th>0</th>\n",
       "      <td>Warm beer on a cold day isn't my idea of fun.</td>\n",
       "      <td>[0.032820337, 0.010522877, -0.0042745704, 0.08...</td>\n",
       "      <td>(384,)</td>\n",
       "    </tr>\n",
       "    <tr>\n",
       "      <th>1</th>\n",
       "      <td>The old rusted farm equipment surrounded the h...</td>\n",
       "      <td>[-0.022551935, 0.07862607, 0.06436973, 0.06431...</td>\n",
       "      <td>(384,)</td>\n",
       "    </tr>\n",
       "    <tr>\n",
       "      <th>2</th>\n",
       "      <td>She thought there'd be sufficient time if she ...</td>\n",
       "      <td>[-0.0057829944, 0.043506794, 0.034075283, 0.09...</td>\n",
       "      <td>(384,)</td>\n",
       "    </tr>\n",
       "    <tr>\n",
       "      <th>3</th>\n",
       "      <td>He told us a very exciting adventure story.</td>\n",
       "      <td>[0.051544324, 0.07973126, 0.039082285, 0.07299...</td>\n",
       "      <td>(384,)</td>\n",
       "    </tr>\n",
       "  </tbody>\n",
       "</table>\n",
       "</div>"
      ],
      "text/plain": [
       "                                            sentence  \\\n",
       "0      Warm beer on a cold day isn't my idea of fun.   \n",
       "1  The old rusted farm equipment surrounded the h...   \n",
       "2  She thought there'd be sufficient time if she ...   \n",
       "3        He told us a very exciting adventure story.   \n",
       "\n",
       "                                           embedding embedding shape  \n",
       "0  [0.032820337, 0.010522877, -0.0042745704, 0.08...          (384,)  \n",
       "1  [-0.022551935, 0.07862607, 0.06436973, 0.06431...          (384,)  \n",
       "2  [-0.0057829944, 0.043506794, 0.034075283, 0.09...          (384,)  \n",
       "3  [0.051544324, 0.07973126, 0.039082285, 0.07299...          (384,)  "
      ]
     },
     "execution_count": 2,
     "metadata": {},
     "output_type": "execute_result"
    }
   ],
   "source": [
    "sentences = [\n",
    "    \"Warm beer on a cold day isn't my idea of fun.\",\n",
    "    \"The old rusted farm equipment surrounded the house predicting its demise.\",\n",
    "    \"She thought there'd be sufficient time if she hid her watch.\",\n",
    "    \"He told us a very exciting adventure story.\",\n",
    "]\n",
    "\n",
    "embeddings = (\n",
    "    SentenceTransformer('all-MiniLM-L6-v2')\n",
    "    .encode(sentences)\n",
    ")\n",
    "\n",
    "pd.DataFrame({\n",
    "    'sentence': sentences,\n",
    "    'embedding': [e for e in embeddings],\n",
    "    'embedding shape': [e.shape for e in embeddings],\n",
    "})"
   ]
  },
  {
   "cell_type": "markdown",
   "id": "6043b30e-8375-48fc-a8f0-3100fe29984b",
   "metadata": {},
   "source": [
    "Compute the embedding of a single paragraph with several sentences:"
   ]
  },
  {
   "cell_type": "code",
   "execution_count": 3,
   "id": "5ac87353-3ce9-44f9-980f-a9c96e0d4017",
   "metadata": {},
   "outputs": [
    {
     "data": {
      "application/vnd.jupyter.widget-view+json": {
       "model_id": "5cb6b377f95e4d858f24bbd3502adc63",
       "version_major": 2,
       "version_minor": 0
      },
      "text/plain": [
       "Batches:   0%|          | 0/1 [00:00<?, ?it/s]"
      ]
     },
     "metadata": {},
     "output_type": "display_data"
    },
    {
     "data": {
      "text/html": [
       "<div>\n",
       "<style scoped>\n",
       "    .dataframe tbody tr th:only-of-type {\n",
       "        vertical-align: middle;\n",
       "    }\n",
       "\n",
       "    .dataframe tbody tr th {\n",
       "        vertical-align: top;\n",
       "    }\n",
       "\n",
       "    .dataframe thead th {\n",
       "        text-align: right;\n",
       "    }\n",
       "</style>\n",
       "<table border=\"1\" class=\"dataframe\">\n",
       "  <thead>\n",
       "    <tr style=\"text-align: right;\">\n",
       "      <th></th>\n",
       "      <th>0</th>\n",
       "    </tr>\n",
       "  </thead>\n",
       "  <tbody>\n",
       "    <tr>\n",
       "      <th>text</th>\n",
       "      <td>Here is Edward Bear, coming downstairs now, bu...</td>\n",
       "    </tr>\n",
       "    <tr>\n",
       "      <th>embedding vector</th>\n",
       "      <td>[0.029747749, -0.06632457, 0.03771893, -0.0041...</td>\n",
       "    </tr>\n",
       "    <tr>\n",
       "      <th>shape</th>\n",
       "      <td>(384,)</td>\n",
       "    </tr>\n",
       "  </tbody>\n",
       "</table>\n",
       "</div>"
      ],
      "text/plain": [
       "                                                                  0\n",
       "text              Here is Edward Bear, coming downstairs now, bu...\n",
       "embedding vector  [0.029747749, -0.06632457, 0.03771893, -0.0041...\n",
       "shape                                                        (384,)"
      ]
     },
     "execution_count": 3,
     "metadata": {},
     "output_type": "execute_result"
    }
   ],
   "source": [
    "pooh_first_paragraph = \"Here is Edward Bear, coming downstairs now, bump, bump, bump, on the back of his head, behind Christopher Robin. It is, as far as he knows, the only way of coming downstairs, but sometimes he feels that there really is another way, if only he could stop bumping for a moment and think of it. And then he feels that perhaps there isn't. Anyhow, here he is at the bottom, and ready to be introduced to you. Winnie-the-Pooh.\"\n",
    "\n",
    "vectorizer = SentenceTransformer('all-MiniLM-L6-v2')\n",
    "\n",
    "embedding = vectorizer.encode(pooh_first_paragraph, show_progress_bar=True)\n",
    "\n",
    "pd.DataFrame({\n",
    "    'text': [pooh_first_paragraph,],\n",
    "    'embedding vector': [embedding,],\n",
    "    'shape': [embedding.shape,],\n",
    "}).T"
   ]
  },
  {
   "cell_type": "markdown",
   "id": "ce431f77-c624-4d07-be94-d655740b1207",
   "metadata": {
    "jp-MarkdownHeadingCollapsed": true,
    "tags": []
   },
   "source": [
    "## Model properties"
   ]
  },
  {
   "cell_type": "code",
   "execution_count": 4,
   "id": "356ad632-8fe4-4d51-963e-5f855e62f3a8",
   "metadata": {},
   "outputs": [
    {
     "data": {
      "text/plain": [
       "Sequence lenght                                 256\n",
       "Number of components of the embedding vector    384\n",
       "dtype: int64"
      ]
     },
     "execution_count": 4,
     "metadata": {},
     "output_type": "execute_result"
    }
   ],
   "source": [
    "model = SentenceTransformer('all-MiniLM-L6-v2')\n",
    "\n",
    "pd.Series({\n",
    "    'Sequence lenght': model.get_max_seq_length(),\n",
    "    'Number of components of the embedding vector': model.get_sentence_embedding_dimension(),\n",
    "}).T"
   ]
  },
  {
   "cell_type": "markdown",
   "id": "21d4d052-964f-4f00-9c91-8b455f41f551",
   "metadata": {
    "jp-MarkdownHeadingCollapsed": true,
    "tags": []
   },
   "source": [
    "## Cosine similarity (sentence transformers)"
   ]
  },
  {
   "cell_type": "code",
   "execution_count": 5,
   "id": "d88ba28b-ab86-471f-8ca3-fd57282c7a52",
   "metadata": {},
   "outputs": [
    {
     "data": {
      "text/plain": [
       "tensor([[1.]])"
      ]
     },
     "execution_count": 5,
     "metadata": {},
     "output_type": "execute_result"
    }
   ],
   "source": [
    "util.cos_sim([1.0, 0.0], [1.0, 0.0])"
   ]
  },
  {
   "cell_type": "code",
   "execution_count": 6,
   "id": "ba84a439-b526-4c99-9f27-7df70b463272",
   "metadata": {},
   "outputs": [
    {
     "data": {
      "text/plain": [
       "tensor([[1.]])"
      ]
     },
     "execution_count": 6,
     "metadata": {},
     "output_type": "execute_result"
    }
   ],
   "source": [
    "util.cos_sim([1.0, 0.0], [0.6, 0.0])"
   ]
  },
  {
   "cell_type": "code",
   "execution_count": 7,
   "id": "c0d1b605-f2ce-4726-a540-435ac8cc6d88",
   "metadata": {},
   "outputs": [
    {
     "data": {
      "text/plain": [
       "tensor([[1.]])"
      ]
     },
     "execution_count": 7,
     "metadata": {},
     "output_type": "execute_result"
    }
   ],
   "source": [
    "util.cos_sim([2.3, -1.8], [2.3, -1.8])"
   ]
  },
  {
   "cell_type": "code",
   "execution_count": 8,
   "id": "628ba1d4-81ab-4466-8f6e-62f66b4a917e",
   "metadata": {},
   "outputs": [
    {
     "data": {
      "text/plain": [
       "tensor([[0.9971]])"
      ]
     },
     "execution_count": 8,
     "metadata": {},
     "output_type": "execute_result"
    }
   ],
   "source": [
    "util.cos_sim([2.3, -1.8], [2.7, -1.8])"
   ]
  },
  {
   "cell_type": "code",
   "execution_count": 9,
   "id": "7b78dfec-70f8-4535-a5da-08edda183c6c",
   "metadata": {},
   "outputs": [
    {
     "data": {
      "text/plain": [
       "tensor([[-1.]])"
      ]
     },
     "execution_count": 9,
     "metadata": {},
     "output_type": "execute_result"
    }
   ],
   "source": [
    "util.cos_sim([-2.3, 1.8], [2.3, -1.8])"
   ]
  },
  {
   "cell_type": "markdown",
   "id": "e7fa51b9-118e-4556-ac30-7cf3182f26e0",
   "metadata": {
    "jp-MarkdownHeadingCollapsed": true,
    "tags": []
   },
   "source": [
    "## Cosine similarity (sklearn)"
   ]
  },
  {
   "cell_type": "code",
   "execution_count": 10,
   "id": "d556aa9f-fe91-4846-899c-5af21a1030a8",
   "metadata": {},
   "outputs": [
    {
     "data": {
      "text/plain": [
       "array([[1.]])"
      ]
     },
     "execution_count": 10,
     "metadata": {},
     "output_type": "execute_result"
    }
   ],
   "source": [
    "cosine_similarity([[1.0, 0.0]], [[1.0, 0.0]])"
   ]
  },
  {
   "cell_type": "code",
   "execution_count": 11,
   "id": "75c47a3b-5665-46e0-a499-0dbf4e4a271e",
   "metadata": {},
   "outputs": [
    {
     "data": {
      "text/plain": [
       "array([[0.99711008]])"
      ]
     },
     "execution_count": 11,
     "metadata": {},
     "output_type": "execute_result"
    }
   ],
   "source": [
    "cosine_similarity([[2.3, -1.8]], [[2.7, -1.8]])"
   ]
  },
  {
   "cell_type": "markdown",
   "id": "f231bbf6-3dad-403c-ba3a-9dbef9b0310b",
   "metadata": {
    "tags": []
   },
   "source": [
    "## Testing pooling "
   ]
  },
  {
   "cell_type": "markdown",
   "id": "bc08499b-0bdf-4271-a62e-f28bdaca2fdf",
   "metadata": {},
   "source": [
    "Checking how similar are:\n",
    "- average of embedding for 'carrot' and 'pie'\n",
    "- embedding for 'carrot pie'\n",
    "\n",
    "Двете не са напълно подобни, защото моделът (с основа BERT?) връща ембединг на всяка дума В КОНТЕКСТА на изречението."
   ]
  },
  {
   "cell_type": "code",
   "execution_count": 12,
   "id": "70619d55-1431-44f0-abfa-be93bc366b5c",
   "metadata": {},
   "outputs": [
    {
     "data": {
      "text/plain": [
       "tensor([[0.9204]])"
      ]
     },
     "execution_count": 12,
     "metadata": {},
     "output_type": "execute_result"
    }
   ],
   "source": [
    "vectorizer = SentenceTransformer('all-MiniLM-L6-v2')\n",
    "\n",
    "phrases = ['carrot', 'pie', 'carrot pie']\n",
    "embeddings = [vectorizer.encode(p) for p in phrases]\n",
    "\n",
    "# Average of embedding for 'carrot' and 'pie'\n",
    "\n",
    "# Checking how similar are:\n",
    "# - average of embedding for 'carrot' and 'pie'\n",
    "# - embedding for 'carrot pie'\n",
    "util.cos_sim(\n",
    "    0.5 * (embeddings[0] + embeddings[1]),\n",
    "    embeddings[2],\n",
    ")"
   ]
  },
  {
   "cell_type": "markdown",
   "id": "deefed02-a027-4e11-ae91-07bd8443e6c0",
   "metadata": {
    "tags": []
   },
   "source": [
    "## Words similarity"
   ]
  },
  {
   "cell_type": "code",
   "execution_count": 13,
   "id": "a90e012d-292a-4186-bf4b-df391f93bdb9",
   "metadata": {},
   "outputs": [
    {
     "data": {
      "text/plain": [
       "tensor([[1.]])"
      ]
     },
     "execution_count": 13,
     "metadata": {},
     "output_type": "execute_result"
    }
   ],
   "source": [
    "vectorizer = SentenceTransformer('all-MiniLM-L6-v2')\n",
    "util.cos_sim(\n",
    "    vectorizer.encode('cucamber'),\n",
    "    vectorizer.encode('cucamber')\n",
    ")"
   ]
  },
  {
   "cell_type": "markdown",
   "id": "bbc74a1f-eb43-4333-bc93-0c4837ec4d65",
   "metadata": {
    "tags": []
   },
   "source": [
    "## Sentences similarity"
   ]
  },
  {
   "cell_type": "code",
   "execution_count": 14,
   "id": "e22527db-daf3-4a5b-8791-61592bab7dd2",
   "metadata": {},
   "outputs": [
    {
     "data": {
      "text/plain": [
       "tensor([[0.7057]])"
      ]
     },
     "execution_count": 14,
     "metadata": {},
     "output_type": "execute_result"
    }
   ],
   "source": [
    "model = SentenceTransformer('all-MiniLM-L6-v2')\n",
    "\n",
    "embedding1 = model.encode('I enjoy walking in the mountains.')\n",
    "embedding2 = model.encode('I like strolling in parks and forests.')\n",
    "\n",
    "util.cos_sim(embedding1, embedding2)"
   ]
  },
  {
   "cell_type": "code",
   "execution_count": 15,
   "id": "e9ed7683-dbd4-4a3f-9721-b8e05f2c3d24",
   "metadata": {},
   "outputs": [
    {
     "data": {
      "text/plain": [
       "tensor([[1.0000]])"
      ]
     },
     "execution_count": 15,
     "metadata": {},
     "output_type": "execute_result"
    }
   ],
   "source": [
    "embedding1 = model.encode('I enjoy walking in the mountains.')\n",
    "embedding2 = model.encode('I enjoy walking in the mountains.')\n",
    "\n",
    "util.cos_sim(embedding1, embedding2)"
   ]
  },
  {
   "cell_type": "code",
   "execution_count": 16,
   "id": "1353a7b5-c3d1-4381-a855-a3d0297700dc",
   "metadata": {},
   "outputs": [
    {
     "data": {
      "text/plain": [
       "tensor([[0.7463]])"
      ]
     },
     "execution_count": 16,
     "metadata": {},
     "output_type": "execute_result"
    }
   ],
   "source": [
    "embedding1 = model.encode('I enjoy walking in the mountains.')\n",
    "embedding2 = model.encode('I hate walking in the mountains.')\n",
    "\n",
    "util.cos_sim(embedding1, embedding2)"
   ]
  },
  {
   "cell_type": "markdown",
   "id": "3dbc9b43-1ee7-4412-9130-0b4b2a953cec",
   "metadata": {
    "tags": []
   },
   "source": [
    "## Comparing model performance"
   ]
  },
  {
   "cell_type": "code",
   "execution_count": 18,
   "id": "93dcb3af-24bd-4c5a-9cfe-6265e6902c11",
   "metadata": {},
   "outputs": [
    {
     "data": {
      "application/vnd.jupyter.widget-view+json": {
       "model_id": "626fb5e2985d428f84a5f52662b97f77",
       "version_major": 2,
       "version_minor": 0
      },
      "text/plain": [
       "Batches:   0%|          | 0/1 [00:00<?, ?it/s]"
      ]
     },
     "metadata": {},
     "output_type": "display_data"
    },
    {
     "name": "stdout",
     "output_type": "stream",
     "text": [
      "Similarity using bert-base-nli-mean-tokens                                   : 0.59\n"
     ]
    },
    {
     "data": {
      "application/vnd.jupyter.widget-view+json": {
       "model_id": "55f7d672c5b94ba4893144238afeca02",
       "version_major": 2,
       "version_minor": 0
      },
      "text/plain": [
       "Batches:   0%|          | 0/1 [00:00<?, ?it/s]"
      ]
     },
     "metadata": {},
     "output_type": "display_data"
    },
    {
     "name": "stdout",
     "output_type": "stream",
     "text": [
      "Similarity using roberta-base-nli-mean-tokens                                : 0.70\n"
     ]
    },
    {
     "data": {
      "application/vnd.jupyter.widget-view+json": {
       "model_id": "563cf8a5d8af45f2bc83e2db3ccccff9",
       "version_major": 2,
       "version_minor": 0
      },
      "text/plain": [
       "Batches:   0%|          | 0/1 [00:00<?, ?it/s]"
      ]
     },
     "metadata": {},
     "output_type": "display_data"
    },
    {
     "name": "stdout",
     "output_type": "stream",
     "text": [
      "Similarity using distilbert-base-nli-mean-tokens                             : 0.77\n"
     ]
    }
   ],
   "source": [
    "# Define the sentences\n",
    "sentence1 = 'I bought a new car, it is really fast.'\n",
    "sentence2 = 'Myself recently got a the latest ride. It is not slow at all!'\n",
    "\n",
    "# Load different transformer models\n",
    "model_names = ['bert-base-nli-mean-tokens', 'roberta-base-nli-mean-tokens', 'distilbert-base-nli-mean-tokens']\n",
    "\n",
    "# Calculate cosine similarity for each model\n",
    "for model_name in model_names:\n",
    "    # Load the model\n",
    "    model = SentenceTransformer(model_name)\n",
    "\n",
    "    # Encode the sentences to get embeddings\n",
    "    embeddings = model.encode([sentence1, sentence2], show_progress_bar=True)\n",
    "\n",
    "    # Calculate cosine similarity\n",
    "    similarity = cosine_similarity([embeddings[0]], [embeddings[1]])\n",
    "\n",
    "    print(f\"Similarity using {model_name:<60}: {similarity[0][0]:.2f}\")"
   ]
  },
  {
   "cell_type": "markdown",
   "id": "f70f6cd1-4c83-4952-9b44-a9f3715c8c06",
   "metadata": {},
   "source": [
    "## Heading"
   ]
  },
  {
   "cell_type": "code",
   "execution_count": null,
   "id": "6217e343-617a-478f-b968-d4df04d7a9be",
   "metadata": {},
   "outputs": [],
   "source": []
  },
  {
   "cell_type": "markdown",
   "id": "722e2ef8-5229-4f01-b010-3730232f38c0",
   "metadata": {},
   "source": [
    "## Heading"
   ]
  },
  {
   "cell_type": "code",
   "execution_count": null,
   "id": "394134c4-fb45-423c-a7cf-f32adcab96b3",
   "metadata": {},
   "outputs": [],
   "source": []
  }
 ],
 "metadata": {
  "kernelspec": {
   "display_name": "Python 3 (ipykernel)",
   "language": "python",
   "name": "python3"
  },
  "language_info": {
   "codemirror_mode": {
    "name": "ipython",
    "version": 3
   },
   "file_extension": ".py",
   "mimetype": "text/x-python",
   "name": "python",
   "nbconvert_exporter": "python",
   "pygments_lexer": "ipython3",
   "version": "3.10.9"
  }
 },
 "nbformat": 4,
 "nbformat_minor": 5
}
