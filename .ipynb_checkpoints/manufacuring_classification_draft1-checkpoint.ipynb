{
 "cells": [
  {
   "cell_type": "code",
   "execution_count": 1,
   "metadata": {},
   "outputs": [],
   "source": [
    "%matplotlib inline"
   ]
  },
  {
   "cell_type": "code",
   "execution_count": 107,
   "metadata": {},
   "outputs": [],
   "source": [
    "import numpy as np\n",
    "import pandas as pd\n",
    "import matplotlib.pyplot as plt\n",
    "\n",
    "from bs4 import BeautifulSoup\n",
    "import json\n",
    "import random\n",
    "import re\n",
    "import requests\n",
    "from typing import List, Dict, Any"
   ]
  },
  {
   "cell_type": "code",
   "execution_count": 13,
   "metadata": {},
   "outputs": [],
   "source": [
    "SEED = 2023\n",
    "random.seed(SEED)"
   ]
  },
  {
   "cell_type": "markdown",
   "metadata": {},
   "source": [
    "# Classification of Manufacturing Processes\n",
    "\n",
    "## Problem\n",
    "\n",
    "\n",
    "## Objectives\n",
    "Give ideas to design engineers by visualizing processes. Represent the manufacturing processes as points in 2D space. Examples include drilling, polishing, bending, extrusion est.\n",
    "\n",
    "## Data\n",
    "\n",
    "https://en.wikipedia.org/wiki/List_of_manufacturing_processes\n",
    "\n",
    "https://en.wikipedia.org/wiki/List_of_ISO_standards"
   ]
  },
  {
   "cell_type": "markdown",
   "metadata": {},
   "source": [
    "## Download Data"
   ]
  },
  {
   "cell_type": "code",
   "execution_count": 91,
   "metadata": {
    "tags": []
   },
   "outputs": [],
   "source": [
    "def extract_hyperlinks(url: str) -> List[str]:\n",
    "    \"\"\"\n",
    "    Extracts all hyperlinks from a web page and returns them as a list of strings.\n",
    "    \"\"\"\n",
    "    response = requests.get(url)\n",
    "    soup = BeautifulSoup(response.text, \"html.parser\")\n",
    "    hyperlinks = [a_tag.get('href') for a_tag in soup.find_all('a')]\n",
    "\n",
    "    return hyperlinks"
   ]
  },
  {
   "cell_type": "code",
   "execution_count": 92,
   "metadata": {},
   "outputs": [],
   "source": [
    "def filter_hyperlinks(hyperlinks: List[str]) -> List[str]:\n",
    "    \"\"\"\n",
    "    Filters a list of hyperlinks based on certain criteria.\n",
    "    \"\"\"\n",
    "    # Drop duplicates\n",
    "    valid_hyperlinks = list(set(hyperlinks))\n",
    "\n",
    "    # Drop None values\n",
    "    valid_hyperlinks = [h for h in valid_hyperlinks if h is not None]\n",
    "\n",
    "    # Drop unrelated links\n",
    "    PREFIXES = ['Category:',\n",
    "                'File:',\n",
    "                'Help:',\n",
    "                'Special:',\n",
    "                'Talk:',\n",
    "                'Wikipedia:',\n",
    "                'Main_Page|Portal:',\n",
    "                'List_of']\n",
    "    PATTERN = fr'^/wiki/(?!{\"|\".join(PREFIXES)}).*'\n",
    "    valid_hyperlinks = [h for h in valid_hyperlinks if re.match(PATTERN, h)]\n",
    "\n",
    "    return valid_hyperlinks"
   ]
  },
  {
   "cell_type": "code",
   "execution_count": 98,
   "metadata": {
    "tags": []
   },
   "outputs": [
    {
     "name": "stdout",
     "output_type": "stream",
     "text": [
      "1716 hyperlinks extracted.\n"
     ]
    }
   ],
   "source": [
    "urls = [\n",
    "    'https://en.wikipedia.org/wiki/List_of_welding_processes',\n",
    "    'https://en.wikipedia.org/wiki/List_of_manufacturing_processes',\n",
    "    'https://en.wikipedia.org/wiki/Industrial_processes'\n",
    "]\n",
    "\n",
    "# Collect hyperlinks\n",
    "hyperlinks = []\n",
    "for url in urls:\n",
    "    hyperlinks.extend(extract_hyperlinks(url))\n",
    "print(f'{len(hyperlinks)} hyperlinks extracted.')"
   ]
  },
  {
   "cell_type": "code",
   "execution_count": 99,
   "metadata": {
    "tags": []
   },
   "outputs": [
    {
     "name": "stdout",
     "output_type": "stream",
     "text": [
      "1111 hyperlinks remain after filtering.\n",
      "Example:  ['/wiki/System_testing', '/wiki/Real_estate_agent', '/wiki/Hunting']\n"
     ]
    }
   ],
   "source": [
    "# Filter hyperlinks\n",
    "hyperlinks = filter_hyperlinks(hyperlinks)\n",
    "print(f'{len(hyperlinks)} hyperlinks remain after filtering.')\n",
    "print('Example: ', random.sample(hyperlinks, 3))"
   ]
  },
  {
   "cell_type": "code",
   "execution_count": 84,
   "metadata": {},
   "outputs": [],
   "source": [
    "def href_to_title(href):\n",
    "    \"\"\"Converts a wikipedia href to wikipedia title.\"\"\"\n",
    "    return href.replace('/wiki/', '').replace('_', ' ')"
   ]
  },
  {
   "cell_type": "code",
   "execution_count": 105,
   "metadata": {
    "tags": []
   },
   "outputs": [],
   "source": [
    "# Helper function\n",
    "def recursive_dict_search(data: Dict[Any, Any], key: Any) -> Any:\n",
    "    \"\"\"\n",
    "    Recursively searches a nested dictionary for a given key and returns its value. \n",
    "    \"\"\"\n",
    "    for k, v in data.items():\n",
    "        if k == key:\n",
    "            return v\n",
    "        elif isinstance(v, dict):\n",
    "            result = recursive_dict_search(v, key)\n",
    "            if result is not None:\n",
    "                return result\n",
    "    return None\n",
    "\n",
    "\n",
    "def retrieve_summary(title: str) -> str:\n",
    "    \"\"\"\n",
    "    Retrieves a summary of a Wikipedia article based on a given article title.\n",
    "    \"\"\"\n",
    "    api_url = f'https://en.wikipedia.org/w/api.php?action=query&prop=extracts&titles={title}&format=json'\n",
    "    response = requests.get(api_url)\n",
    "    try:\n",
    "        json_data = response.json()\n",
    "        summary = recursive_dict_search(json_data['query'], 'extract')\n",
    "    except SyntaxError:\n",
    "        summary = ''\n",
    "\n",
    "    return summary"
   ]
  },
  {
   "cell_type": "code",
   "execution_count": 104,
   "metadata": {},
   "outputs": [
    {
     "data": {
      "text/html": [
       "<div>\n",
       "<style scoped>\n",
       "    .dataframe tbody tr th:only-of-type {\n",
       "        vertical-align: middle;\n",
       "    }\n",
       "\n",
       "    .dataframe tbody tr th {\n",
       "        vertical-align: top;\n",
       "    }\n",
       "\n",
       "    .dataframe thead th {\n",
       "        text-align: right;\n",
       "    }\n",
       "</style>\n",
       "<table border=\"1\" class=\"dataframe\">\n",
       "  <thead>\n",
       "    <tr style=\"text-align: right;\">\n",
       "      <th></th>\n",
       "      <th>href</th>\n",
       "      <th>title</th>\n",
       "    </tr>\n",
       "  </thead>\n",
       "  <tbody>\n",
       "    <tr>\n",
       "      <th>0</th>\n",
       "      <td>/wiki/Carbon_Arc_Welding</td>\n",
       "      <td>Carbon Arc Welding</td>\n",
       "    </tr>\n",
       "    <tr>\n",
       "      <th>1</th>\n",
       "      <td>/wiki/Flux_Cored_Arc_Welding</td>\n",
       "      <td>Flux Cored Arc Welding</td>\n",
       "    </tr>\n",
       "    <tr>\n",
       "      <th>2</th>\n",
       "      <td>/wiki/Gas_Metal_Arc_Welding</td>\n",
       "      <td>Gas Metal Arc Welding</td>\n",
       "    </tr>\n",
       "    <tr>\n",
       "      <th>3</th>\n",
       "      <td>/wiki/Shielding_gas</td>\n",
       "      <td>Shielding gas</td>\n",
       "    </tr>\n",
       "    <tr>\n",
       "      <th>4</th>\n",
       "      <td>/wiki/Gas_Tungsten_Arc_Welding</td>\n",
       "      <td>Gas Tungsten Arc Welding</td>\n",
       "    </tr>\n",
       "  </tbody>\n",
       "</table>\n",
       "</div>"
      ],
      "text/plain": [
       "                             href                     title\n",
       "0        /wiki/Carbon_Arc_Welding        Carbon Arc Welding\n",
       "1    /wiki/Flux_Cored_Arc_Welding    Flux Cored Arc Welding\n",
       "2     /wiki/Gas_Metal_Arc_Welding     Gas Metal Arc Welding\n",
       "3             /wiki/Shielding_gas             Shielding gas\n",
       "4  /wiki/Gas_Tungsten_Arc_Welding  Gas Tungsten Arc Welding"
      ]
     },
     "execution_count": 104,
     "metadata": {},
     "output_type": "execute_result"
    }
   ],
   "source": [
    "df = pd.DataFrame({\n",
    "    'href': pd.Series(hrefs),\n",
    "    'title': pd.Series(hrefs).apply(href_to_title)\n",
    "})\n",
    "\n",
    "df.head()"
   ]
  },
  {
   "cell_type": "code",
   "execution_count": 106,
   "metadata": {},
   "outputs": [
    {
     "data": {
      "text/plain": [
       "'<!-- \\nNewPP limit report\\nParsed by mw1485\\nCached time: 20230511104759\\nCache expiry: 1814400\\nReduced expiry: false\\nComplications: []\\nCPU time usage: 0.044 seconds\\nReal time usage: 0.060 seconds\\nPreprocessor visited node count: 108/1000000\\nPost‐expand include size: 10397/2097152 bytes\\nTemplate argument size: 3555/2097152 bytes\\nHighest expansion depth: 11/100\\nExpensive parser function count: 1/500\\nUnstrip recursion depth: 0/20\\nUnstrip post‐expand size: 1653/5000000 bytes\\nLua time usage: 0.023/10.000 seconds\\nLua memory usage: 781916/52428800 bytes\\nNumber of Wikibase entities loaded: 0/400\\n--><!--\\nTransclusion expansion time report (%,ms,calls,template)\\n100.00%   52.296      1 -total\\n100.00%   52.296      1 Template:Redirect_category_shell\\n 96.06%   50.235      1 Template:Mbox\\n 14.77%    7.724      1 Template:R_from_other_capitalisation\\n 12.16%    6.357      1 Template:Redirect_template\\n  3.88%    2.031      2 Template:Tl\\n  2.74%    1.432      1 Template:Talk_other\\n--><!-- Saved in parser cache with key enwiki:pcache:idhash:1471773-0!canonical and timestamp 20230511104759 and revision id 784650477. Rendering was triggered because: api-parse\\n -->'"
      ]
     },
     "execution_count": 106,
     "metadata": {},
     "output_type": "execute_result"
    }
   ],
   "source": [
    "retrieve_summary(df.title)"
   ]
  },
  {
   "cell_type": "code",
   "execution_count": 254,
   "metadata": {
    "tags": []
   },
   "outputs": [],
   "source": [
    "summaries = [retrieve_summary(title) for title in titles[:10]]"
   ]
  },
  {
   "cell_type": "code",
   "execution_count": 255,
   "metadata": {},
   "outputs": [
    {
     "data": {
      "text/html": [
       "<div>\n",
       "<style scoped>\n",
       "    .dataframe tbody tr th:only-of-type {\n",
       "        vertical-align: middle;\n",
       "    }\n",
       "\n",
       "    .dataframe tbody tr th {\n",
       "        vertical-align: top;\n",
       "    }\n",
       "\n",
       "    .dataframe thead th {\n",
       "        text-align: right;\n",
       "    }\n",
       "</style>\n",
       "<table border=\"1\" class=\"dataframe\">\n",
       "  <thead>\n",
       "    <tr style=\"text-align: right;\">\n",
       "      <th></th>\n",
       "      <th>title</th>\n",
       "      <th>summary</th>\n",
       "    </tr>\n",
       "  </thead>\n",
       "  <tbody>\n",
       "    <tr>\n",
       "      <th>0</th>\n",
       "      <td>Casting</td>\n",
       "      <td>&lt;link rel=\"mw-deduplicated-inline-style\" href=...</td>\n",
       "    </tr>\n",
       "    <tr>\n",
       "      <th>1</th>\n",
       "      <td>Centrifugal casting (industrial)</td>\n",
       "      <td>&lt;p&gt;&lt;b&gt;Centrifugal casting&lt;/b&gt; or &lt;b&gt;rotocastin...</td>\n",
       "    </tr>\n",
       "    <tr>\n",
       "      <th>2</th>\n",
       "      <td>Continuous casting</td>\n",
       "      <td>&lt;p&gt;&lt;b&gt;Continuous casting&lt;/b&gt;, also called &lt;b&gt;s...</td>\n",
       "    </tr>\n",
       "    <tr>\n",
       "      <th>3</th>\n",
       "      <td>Die casting</td>\n",
       "      <td>&lt;p class=\"mw-empty-elt\"&gt;\\n&lt;/p&gt;\\n\\n&lt;p&gt;&lt;b&gt;Die ca...</td>\n",
       "    </tr>\n",
       "    <tr>\n",
       "      <th>4</th>\n",
       "      <td>Evaporative-pattern casting</td>\n",
       "      <td>&lt;p&gt;&lt;b&gt;Evaporative-pattern casting&lt;/b&gt; is a typ...</td>\n",
       "    </tr>\n",
       "  </tbody>\n",
       "</table>\n",
       "</div>"
      ],
      "text/plain": [
       "                              title  \\\n",
       "0                           Casting   \n",
       "1  Centrifugal casting (industrial)   \n",
       "2                Continuous casting   \n",
       "3                       Die casting   \n",
       "4       Evaporative-pattern casting   \n",
       "\n",
       "                                             summary  \n",
       "0  <link rel=\"mw-deduplicated-inline-style\" href=...  \n",
       "1  <p><b>Centrifugal casting</b> or <b>rotocastin...  \n",
       "2  <p><b>Continuous casting</b>, also called <b>s...  \n",
       "3  <p class=\"mw-empty-elt\">\\n</p>\\n\\n<p><b>Die ca...  \n",
       "4  <p><b>Evaporative-pattern casting</b> is a typ...  "
      ]
     },
     "execution_count": 255,
     "metadata": {},
     "output_type": "execute_result"
    }
   ],
   "source": [
    "df = pd.DataFrame({'title': titles})\n",
    "df['summary'] = df.title.apply(retrieve_summary)\n",
    "\n",
    "df.head()"
   ]
  },
  {
   "cell_type": "code",
   "execution_count": 256,
   "metadata": {},
   "outputs": [],
   "source": [
    "def remove_html_tags(text):\n",
    "    clean = re.compile('<.*?>')\n",
    "    return re.sub(clean, '', text)"
   ]
  },
  {
   "cell_type": "code",
   "execution_count": 257,
   "metadata": {},
   "outputs": [
    {
     "data": {
      "text/plain": [
       "re.Pattern"
      ]
     },
     "execution_count": 257,
     "metadata": {},
     "output_type": "execute_result"
    }
   ],
   "source": [
    "type(re.compile('<.*?>'))"
   ]
  },
  {
   "cell_type": "code",
   "execution_count": 258,
   "metadata": {},
   "outputs": [],
   "source": [
    "df['clean_summary'] = df.summary.apply(remove_html_tags)"
   ]
  },
  {
   "cell_type": "code",
   "execution_count": 259,
   "metadata": {},
   "outputs": [
    {
     "name": "stderr",
     "output_type": "stream",
     "text": [
      "C:\\Users\\a1056968\\AppData\\Local\\Temp\\ipykernel_20948\\2691363947.py:1: FutureWarning: The default value of regex will change from True to False in a future version.\n",
      "  df.clean_summary = df.clean_summary.str.replace('\\n+', ' ')\n"
     ]
    }
   ],
   "source": [
    "df.clean_summary = df.clean_summary.str.replace('\\n+', ' ')"
   ]
  },
  {
   "cell_type": "code",
   "execution_count": 260,
   "metadata": {},
   "outputs": [
    {
     "name": "stderr",
     "output_type": "stream",
     "text": [
      "C:\\Users\\a1056968\\AppData\\Local\\Temp\\ipykernel_20948\\3781157316.py:1: FutureWarning: The default value of regex will change from True to False in a future version.\n",
      "  df.clean_summary = df.clean_summary.str.replace('\\s ', ' ')\n"
     ]
    }
   ],
   "source": [
    "df.clean_summary = df.clean_summary.str.replace('\\s ', ' ')"
   ]
  },
  {
   "cell_type": "code",
   "execution_count": 261,
   "metadata": {},
   "outputs": [
    {
     "name": "stderr",
     "output_type": "stream",
     "text": [
      "C:\\Users\\a1056968\\AppData\\Local\\Temp\\ipykernel_20948\\3750540164.py:1: FutureWarning: The default value of regex will change from True to False in a future version.\n",
      "  df.clean_summary = df.clean_summary.str.replace('^ ', '')\n"
     ]
    }
   ],
   "source": [
    "df.clean_summary = df.clean_summary.str.replace('^ ', '')"
   ]
  },
  {
   "cell_type": "code",
   "execution_count": 262,
   "metadata": {},
   "outputs": [
    {
     "data": {
      "text/html": [
       "<div>\n",
       "<style scoped>\n",
       "    .dataframe tbody tr th:only-of-type {\n",
       "        vertical-align: middle;\n",
       "    }\n",
       "\n",
       "    .dataframe tbody tr th {\n",
       "        vertical-align: top;\n",
       "    }\n",
       "\n",
       "    .dataframe thead th {\n",
       "        text-align: right;\n",
       "    }\n",
       "</style>\n",
       "<table border=\"1\" class=\"dataframe\">\n",
       "  <thead>\n",
       "    <tr style=\"text-align: right;\">\n",
       "      <th></th>\n",
       "      <th>title</th>\n",
       "      <th>summary</th>\n",
       "      <th>clean_summary</th>\n",
       "    </tr>\n",
       "  </thead>\n",
       "  <tbody>\n",
       "    <tr>\n",
       "      <th>0</th>\n",
       "      <td>Casting</td>\n",
       "      <td>&lt;link rel=\"mw-deduplicated-inline-style\" href=...</td>\n",
       "      <td>Casting is a manufacturing process in which a ...</td>\n",
       "    </tr>\n",
       "    <tr>\n",
       "      <th>1</th>\n",
       "      <td>Centrifugal casting (industrial)</td>\n",
       "      <td>&lt;p&gt;&lt;b&gt;Centrifugal casting&lt;/b&gt; or &lt;b&gt;rotocastin...</td>\n",
       "      <td>Centrifugal casting or rotocasting is a castin...</td>\n",
       "    </tr>\n",
       "    <tr>\n",
       "      <th>2</th>\n",
       "      <td>Continuous casting</td>\n",
       "      <td>&lt;p&gt;&lt;b&gt;Continuous casting&lt;/b&gt;, also called &lt;b&gt;s...</td>\n",
       "      <td>Continuous casting, also called strand casting...</td>\n",
       "    </tr>\n",
       "    <tr>\n",
       "      <th>3</th>\n",
       "      <td>Die casting</td>\n",
       "      <td>&lt;p class=\"mw-empty-elt\"&gt;\\n&lt;/p&gt;\\n\\n&lt;p&gt;&lt;b&gt;Die ca...</td>\n",
       "      <td>Die casting is a metal casting process that is...</td>\n",
       "    </tr>\n",
       "    <tr>\n",
       "      <th>4</th>\n",
       "      <td>Evaporative-pattern casting</td>\n",
       "      <td>&lt;p&gt;&lt;b&gt;Evaporative-pattern casting&lt;/b&gt; is a typ...</td>\n",
       "      <td>Evaporative-pattern casting is a type of casti...</td>\n",
       "    </tr>\n",
       "    <tr>\n",
       "      <th>...</th>\n",
       "      <td>...</td>\n",
       "      <td>...</td>\n",
       "      <td>...</td>\n",
       "    </tr>\n",
       "    <tr>\n",
       "      <th>304</th>\n",
       "      <td>Router (woodworking)</td>\n",
       "      <td>&lt;p&gt;The &lt;b&gt;router&lt;/b&gt; is a power tool with a fl...</td>\n",
       "      <td>The router is a power tool with a flat base an...</td>\n",
       "    </tr>\n",
       "    <tr>\n",
       "      <th>305</th>\n",
       "      <td>Biscuit joiner</td>\n",
       "      <td>&lt;p&gt;A &lt;b&gt;biscuit joiner&lt;/b&gt; or &lt;b&gt;biscuit joint...</td>\n",
       "      <td>A biscuit joiner or biscuit jointer (or someti...</td>\n",
       "    </tr>\n",
       "    <tr>\n",
       "      <th>306</th>\n",
       "      <td>Vulcanization</td>\n",
       "      <td>&lt;p class=\"mw-empty-elt\"&gt;\\n\\n&lt;/p&gt;\\n\\n&lt;p&gt;&lt;b&gt;Vulc...</td>\n",
       "      <td>Vulcanization (British: Vulcanisation) is a ra...</td>\n",
       "    </tr>\n",
       "    <tr>\n",
       "      <th>307</th>\n",
       "      <td>Heat treating</td>\n",
       "      <td>&lt;p&gt;&lt;b&gt;Heat treating&lt;/b&gt; (or &lt;b&gt;heat treatment&lt;...</td>\n",
       "      <td>Heat treating (or heat treatment) is a group o...</td>\n",
       "    </tr>\n",
       "    <tr>\n",
       "      <th>308</th>\n",
       "      <td>Bake-out</td>\n",
       "      <td>&lt;p&gt;&lt;b&gt;Bake-out&lt;/b&gt;, in several areas of techno...</td>\n",
       "      <td>Bake-out, in several areas of technology and f...</td>\n",
       "    </tr>\n",
       "  </tbody>\n",
       "</table>\n",
       "<p>309 rows × 3 columns</p>\n",
       "</div>"
      ],
      "text/plain": [
       "                                title  \\\n",
       "0                             Casting   \n",
       "1    Centrifugal casting (industrial)   \n",
       "2                  Continuous casting   \n",
       "3                         Die casting   \n",
       "4         Evaporative-pattern casting   \n",
       "..                                ...   \n",
       "304              Router (woodworking)   \n",
       "305                    Biscuit joiner   \n",
       "306                     Vulcanization   \n",
       "307                     Heat treating   \n",
       "308                          Bake-out   \n",
       "\n",
       "                                               summary  \\\n",
       "0    <link rel=\"mw-deduplicated-inline-style\" href=...   \n",
       "1    <p><b>Centrifugal casting</b> or <b>rotocastin...   \n",
       "2    <p><b>Continuous casting</b>, also called <b>s...   \n",
       "3    <p class=\"mw-empty-elt\">\\n</p>\\n\\n<p><b>Die ca...   \n",
       "4    <p><b>Evaporative-pattern casting</b> is a typ...   \n",
       "..                                                 ...   \n",
       "304  <p>The <b>router</b> is a power tool with a fl...   \n",
       "305  <p>A <b>biscuit joiner</b> or <b>biscuit joint...   \n",
       "306  <p class=\"mw-empty-elt\">\\n\\n</p>\\n\\n<p><b>Vulc...   \n",
       "307  <p><b>Heat treating</b> (or <b>heat treatment<...   \n",
       "308  <p><b>Bake-out</b>, in several areas of techno...   \n",
       "\n",
       "                                         clean_summary  \n",
       "0    Casting is a manufacturing process in which a ...  \n",
       "1    Centrifugal casting or rotocasting is a castin...  \n",
       "2    Continuous casting, also called strand casting...  \n",
       "3    Die casting is a metal casting process that is...  \n",
       "4    Evaporative-pattern casting is a type of casti...  \n",
       "..                                                 ...  \n",
       "304  The router is a power tool with a flat base an...  \n",
       "305  A biscuit joiner or biscuit jointer (or someti...  \n",
       "306  Vulcanization (British: Vulcanisation) is a ra...  \n",
       "307  Heat treating (or heat treatment) is a group o...  \n",
       "308  Bake-out, in several areas of technology and f...  \n",
       "\n",
       "[309 rows x 3 columns]"
      ]
     },
     "execution_count": 262,
     "metadata": {},
     "output_type": "execute_result"
    }
   ],
   "source": [
    "df"
   ]
  },
  {
   "cell_type": "code",
   "execution_count": 265,
   "metadata": {},
   "outputs": [],
   "source": [
    "df['words_count'] = df.clean_summary.str.split().str.len()"
   ]
  },
  {
   "cell_type": "code",
   "execution_count": 269,
   "metadata": {},
   "outputs": [],
   "source": [
    "df = df.drop(columns='summary')"
   ]
  },
  {
   "cell_type": "code",
   "execution_count": 274,
   "metadata": {},
   "outputs": [],
   "source": [
    "df = df.rename({'clean_summary': 'summary'}, axis=1)"
   ]
  },
  {
   "cell_type": "code",
   "execution_count": 275,
   "metadata": {},
   "outputs": [
    {
     "data": {
      "text/html": [
       "<div>\n",
       "<style scoped>\n",
       "    .dataframe tbody tr th:only-of-type {\n",
       "        vertical-align: middle;\n",
       "    }\n",
       "\n",
       "    .dataframe tbody tr th {\n",
       "        vertical-align: top;\n",
       "    }\n",
       "\n",
       "    .dataframe thead th {\n",
       "        text-align: right;\n",
       "    }\n",
       "</style>\n",
       "<table border=\"1\" class=\"dataframe\">\n",
       "  <thead>\n",
       "    <tr style=\"text-align: right;\">\n",
       "      <th></th>\n",
       "      <th>title</th>\n",
       "      <th>summary</th>\n",
       "      <th>words_count</th>\n",
       "    </tr>\n",
       "  </thead>\n",
       "  <tbody>\n",
       "    <tr>\n",
       "      <th>0</th>\n",
       "      <td>Casting</td>\n",
       "      <td>Casting is a manufacturing process in which a ...</td>\n",
       "      <td>1547</td>\n",
       "    </tr>\n",
       "    <tr>\n",
       "      <th>1</th>\n",
       "      <td>Centrifugal casting (industrial)</td>\n",
       "      <td>Centrifugal casting or rotocasting is a castin...</td>\n",
       "      <td>784</td>\n",
       "    </tr>\n",
       "    <tr>\n",
       "      <th>2</th>\n",
       "      <td>Continuous casting</td>\n",
       "      <td>Continuous casting, also called strand casting...</td>\n",
       "      <td>3824</td>\n",
       "    </tr>\n",
       "    <tr>\n",
       "      <th>3</th>\n",
       "      <td>Die casting</td>\n",
       "      <td>Die casting is a metal casting process that is...</td>\n",
       "      <td>3588</td>\n",
       "    </tr>\n",
       "    <tr>\n",
       "      <th>4</th>\n",
       "      <td>Evaporative-pattern casting</td>\n",
       "      <td>Evaporative-pattern casting is a type of casti...</td>\n",
       "      <td>351</td>\n",
       "    </tr>\n",
       "    <tr>\n",
       "      <th>...</th>\n",
       "      <td>...</td>\n",
       "      <td>...</td>\n",
       "      <td>...</td>\n",
       "    </tr>\n",
       "    <tr>\n",
       "      <th>304</th>\n",
       "      <td>Router (woodworking)</td>\n",
       "      <td>The router is a power tool with a flat base an...</td>\n",
       "      <td>2571</td>\n",
       "    </tr>\n",
       "    <tr>\n",
       "      <th>305</th>\n",
       "      <td>Biscuit joiner</td>\n",
       "      <td>A biscuit joiner or biscuit jointer (or someti...</td>\n",
       "      <td>813</td>\n",
       "    </tr>\n",
       "    <tr>\n",
       "      <th>306</th>\n",
       "      <td>Vulcanization</td>\n",
       "      <td>Vulcanization (British: Vulcanisation) is a ra...</td>\n",
       "      <td>1023</td>\n",
       "    </tr>\n",
       "    <tr>\n",
       "      <th>307</th>\n",
       "      <td>Heat treating</td>\n",
       "      <td>Heat treating (or heat treatment) is a group o...</td>\n",
       "      <td>5153</td>\n",
       "    </tr>\n",
       "    <tr>\n",
       "      <th>308</th>\n",
       "      <td>Bake-out</td>\n",
       "      <td>Bake-out, in several areas of technology and f...</td>\n",
       "      <td>254</td>\n",
       "    </tr>\n",
       "  </tbody>\n",
       "</table>\n",
       "<p>309 rows × 3 columns</p>\n",
       "</div>"
      ],
      "text/plain": [
       "                                title  \\\n",
       "0                             Casting   \n",
       "1    Centrifugal casting (industrial)   \n",
       "2                  Continuous casting   \n",
       "3                         Die casting   \n",
       "4         Evaporative-pattern casting   \n",
       "..                                ...   \n",
       "304              Router (woodworking)   \n",
       "305                    Biscuit joiner   \n",
       "306                     Vulcanization   \n",
       "307                     Heat treating   \n",
       "308                          Bake-out   \n",
       "\n",
       "                                               summary  words_count  \n",
       "0    Casting is a manufacturing process in which a ...         1547  \n",
       "1    Centrifugal casting or rotocasting is a castin...          784  \n",
       "2    Continuous casting, also called strand casting...         3824  \n",
       "3    Die casting is a metal casting process that is...         3588  \n",
       "4    Evaporative-pattern casting is a type of casti...          351  \n",
       "..                                                 ...          ...  \n",
       "304  The router is a power tool with a flat base an...         2571  \n",
       "305  A biscuit joiner or biscuit jointer (or someti...          813  \n",
       "306  Vulcanization (British: Vulcanisation) is a ra...         1023  \n",
       "307  Heat treating (or heat treatment) is a group o...         5153  \n",
       "308  Bake-out, in several areas of technology and f...          254  \n",
       "\n",
       "[309 rows x 3 columns]"
      ]
     },
     "execution_count": 275,
     "metadata": {},
     "output_type": "execute_result"
    }
   ],
   "source": [
    "df"
   ]
  },
  {
   "cell_type": "code",
   "execution_count": 277,
   "metadata": {},
   "outputs": [
    {
     "data": {
      "text/plain": [
       "array([2, 0, 1, 3], dtype=int64)"
      ]
     },
     "execution_count": 277,
     "metadata": {},
     "output_type": "execute_result"
    }
   ],
   "source": [
    "np.argpartition(np.array([15, 20, -10, 50]), 2)"
   ]
  },
  {
   "cell_type": "code",
   "execution_count": 278,
   "metadata": {},
   "outputs": [
    {
     "data": {
      "text/plain": [
       "array([2, 0, 1, 3], dtype=int64)"
      ]
     },
     "execution_count": 278,
     "metadata": {},
     "output_type": "execute_result"
    }
   ],
   "source": [
    "np.argpartition(np.array([15, 20, -10, 50]), 3)"
   ]
  },
  {
   "cell_type": "code",
   "execution_count": 280,
   "metadata": {},
   "outputs": [
    {
     "data": {
      "text/plain": [
       "array([2, 0, 1, 3], dtype=int64)"
      ]
     },
     "execution_count": 280,
     "metadata": {},
     "output_type": "execute_result"
    }
   ],
   "source": [
    "np.argpartition(np.array([15, 20, -10, 50]), (1, 2))"
   ]
  },
  {
   "cell_type": "code",
   "execution_count": 283,
   "metadata": {
    "tags": []
   },
   "outputs": [],
   "source": [
    "from sentence_transformers import SentenceTransformer\n",
    "model = SentenceTransformer('all-MiniLM-L6-v2')"
   ]
  },
  {
   "cell_type": "markdown",
   "metadata": {
    "jp-MarkdownHeadingCollapsed": true,
    "tags": []
   },
   "source": [
    "## Obsolete cells"
   ]
  },
  {
   "cell_type": "code",
   "execution_count": 251,
   "metadata": {
    "tags": []
   },
   "outputs": [
    {
     "data": {
      "text/plain": [
       "['/wiki/Casting',\n",
       " '/wiki/Centrifugal_casting_(industrial)',\n",
       " '/wiki/Continuous_casting',\n",
       " '/wiki/Die_casting',\n",
       " '/wiki/Evaporative-pattern_casting']"
      ]
     },
     "execution_count": 251,
     "metadata": {},
     "output_type": "execute_result"
    }
   ],
   "source": [
    "def filter_hrefs(hrefs: List[str],\n",
    "                 start_str: str,\n",
    "                 end_str: str,\n",
    "                 starts_with: str) -> List[str]:\n",
    "    \"\"\"\n",
    "    Extract a sublist of hrefs that occur between two specific strings and starts with specific string.\n",
    "    \"\"\"\n",
    "    start_index = hrefs.index(start_str)\n",
    "    end_index = hrefs.index(end_str)\n",
    "    hrefs = hrefs[start_index: end_index + 1]\n",
    "\n",
    "    hrefs = [h for h in hrefs if h.startswith(starts_with)]\n",
    "\n",
    "    return hrefs\n",
    "\n",
    "\n",
    "hrefs = extract_hrefs(url)\n",
    "hrefs = filter_hrefs(hrefs, start_str='/wiki/Casting',\n",
    "                     end_str='/wiki/Bake-out', starts_with='/wiki')\n",
    "hrefs[:5]"
   ]
  }
 ],
 "metadata": {
  "kernelspec": {
   "display_name": "Python 3 (ipykernel)",
   "language": "python",
   "name": "python3"
  },
  "language_info": {
   "codemirror_mode": {
    "name": "ipython",
    "version": 3
   },
   "file_extension": ".py",
   "mimetype": "text/x-python",
   "name": "python",
   "nbconvert_exporter": "python",
   "pygments_lexer": "ipython3",
   "version": "3.10.10"
  }
 },
 "nbformat": 4,
 "nbformat_minor": 4
}
