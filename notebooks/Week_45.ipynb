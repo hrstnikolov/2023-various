{
  "nbformat": 4,
  "nbformat_minor": 0,
  "metadata": {
    "colab": {
      "provenance": [],
      "toc_visible": true,
      "authorship_tag": "ABX9TyM/QS9Ovc3r3YvWfs6lihJ/",
      "include_colab_link": true
    },
    "kernelspec": {
      "name": "python3",
      "display_name": "Python 3"
    },
    "language_info": {
      "name": "python"
    }
  },
  "cells": [
    {
      "cell_type": "markdown",
      "metadata": {
        "id": "view-in-github",
        "colab_type": "text"
      },
      "source": [
        "<a href=\"https://colab.research.google.com/github/hrstnikolov/2023-various/blob/main/Week_45.ipynb\" target=\"_parent\"><img src=\"https://colab.research.google.com/assets/colab-badge.svg\" alt=\"Open In Colab\"/></a>"
      ]
    },
    {
      "cell_type": "markdown",
      "source": [
        "# Week 45"
      ],
      "metadata": {
        "id": "F7UAzUikrnoh"
      }
    },
    {
      "cell_type": "markdown",
      "source": [
        "## Heading"
      ],
      "metadata": {
        "id": "j_9i5yFH5R9m"
      }
    },
    {
      "cell_type": "code",
      "source": [
        "from datetime import datetime\n",
        "import random"
      ],
      "metadata": {
        "id": "KP-RDqSas5hg"
      },
      "execution_count": 9,
      "outputs": []
    },
    {
      "cell_type": "markdown",
      "source": [
        "Exercise 1: Logging Decorator  \n",
        "Create a decorator that logs the name of the decorated function and the arguments passed to it each time the function is called."
      ],
      "metadata": {
        "id": "SdwOQFRWsqR-"
      }
    },
    {
      "cell_type": "code",
      "source": [
        "def transport():\n",
        "    transports = ['bus', 'train', 'plane', 'car']\n",
        "    return random.choice(transports)\n",
        "\n",
        "\n",
        "def decorated_transport():\n",
        "    print(f'transport called at: {datetime.now().time().isoformat()}')\n",
        "    return transport()\n",
        "\n",
        "\n",
        "decorated_transport()\n",
        "decorated_transport()\n",
        "decorated_transport()"
      ],
      "metadata": {
        "id": "CcuSZ3xPspnR"
      },
      "execution_count": null,
      "outputs": []
    },
    {
      "cell_type": "code",
      "source": [
        "def logging_decorator(function):\n",
        "    def wrapper():\n",
        "        print(f'{function.__name__} called at: {datetime.now().time().isoformat()}')\n",
        "        return function()\n",
        "\n",
        "    return wrapper\n",
        "\n",
        "\n",
        "def transport():\n",
        "    transports = ['bus', 'train', 'plane', 'car']\n",
        "    return random.choice(transports)\n",
        "\n",
        "\n",
        "transport = logging_decorator(transport)\n",
        "\n",
        "transport()\n",
        "transport()"
      ],
      "metadata": {
        "colab": {
          "base_uri": "https://localhost:8080/",
          "height": 70
        },
        "id": "MJrSqbKawLmb",
        "outputId": "f1280f51-0844-433a-822a-ecad6927cd8c"
      },
      "execution_count": 18,
      "outputs": [
        {
          "output_type": "stream",
          "name": "stdout",
          "text": [
            "transport called at: 10:21:41.415603\n",
            "transport called at: 10:21:41.416619\n"
          ]
        },
        {
          "output_type": "execute_result",
          "data": {
            "text/plain": [
              "'train'"
            ],
            "application/vnd.google.colaboratory.intrinsic+json": {
              "type": "string"
            }
          },
          "metadata": {},
          "execution_count": 18
        }
      ]
    },
    {
      "cell_type": "code",
      "source": [
        "def logging_decorator(function):\n",
        "    def wrapper():\n",
        "        print(f'{function.__name__} called at: {datetime.now().time().isoformat()}')\n",
        "        return function()\n",
        "\n",
        "    return wrapper\n",
        "\n",
        "\n",
        "@logging_decorator\n",
        "def transport():\n",
        "    transports = ['bus', 'train', 'plane', 'car']\n",
        "    return random.choice(transports)\n",
        "\n",
        "transport()\n",
        "transport()"
      ],
      "metadata": {
        "colab": {
          "base_uri": "https://localhost:8080/",
          "height": 70
        },
        "id": "g1_hIKkNzrrG",
        "outputId": "dd49410e-f6ab-4dde-b185-7e5c8292992a"
      },
      "execution_count": 19,
      "outputs": [
        {
          "output_type": "stream",
          "name": "stdout",
          "text": [
            "transport called at: 10:27:00.325535\n",
            "transport called at: 10:27:00.327385\n"
          ]
        },
        {
          "output_type": "execute_result",
          "data": {
            "text/plain": [
              "'car'"
            ],
            "application/vnd.google.colaboratory.intrinsic+json": {
              "type": "string"
            }
          },
          "metadata": {},
          "execution_count": 19
        }
      ]
    },
    {
      "cell_type": "code",
      "source": [
        "def log_it(func):\n",
        "    def wrapper(*args, **kwargs):\n",
        "        start = datetime.now().time().isoformat()\n",
        "        result = func(*args, **kwargs)\n",
        "        end = datetime.now().time().isoformat()\n",
        "        print(f'Function \\\"{func.__name__}\\\" executed from {start} to {end}')\n",
        "\n",
        "        return result\n",
        "\n",
        "    return wrapper\n",
        "\n",
        "\n",
        "@log_it\n",
        "def add(a, b):\n",
        "    return a + b\n",
        "\n",
        "\n",
        "add(3, 5)\n",
        "add(5, 7)"
      ],
      "metadata": {
        "colab": {
          "base_uri": "https://localhost:8080/"
        },
        "id": "VrlJtXh4zcQl",
        "outputId": "fa58b124-1e9c-4b6d-98c5-4f5f96ec0320"
      },
      "execution_count": 21,
      "outputs": [
        {
          "output_type": "stream",
          "name": "stdout",
          "text": [
            "Function \"add\" executed from 10:31:21.796462 to 10:31:21.796492\n",
            "Function \"add\" executed from 10:31:21.797818 to 10:31:21.797830\n"
          ]
        },
        {
          "output_type": "execute_result",
          "data": {
            "text/plain": [
              "12"
            ]
          },
          "metadata": {},
          "execution_count": 21
        }
      ]
    },
    {
      "cell_type": "code",
      "source": [],
      "metadata": {
        "id": "FxiqSYNW1fJS"
      },
      "execution_count": null,
      "outputs": []
    },
    {
      "cell_type": "code",
      "source": [],
      "metadata": {
        "id": "rpPSpP1j86Bm"
      },
      "execution_count": null,
      "outputs": []
    }
  ]
}