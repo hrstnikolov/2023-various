{
 "cells": [
  {
   "cell_type": "code",
   "execution_count": 1,
   "id": "ecb66b97-a51e-429d-a998-2019b30c16c6",
   "metadata": {},
   "outputs": [],
   "source": [
    "%matplotlib inline"
   ]
  },
  {
   "cell_type": "code",
   "execution_count": 1,
   "id": "a56dba7d-5502-4ae8-90ec-a46a235a28c7",
   "metadata": {},
   "outputs": [],
   "source": [
    "import numpy as np\n",
    "import pandas as pd\n",
    "import matplotlib.pyplot as plt\n",
    "\n",
    "import scipy.stats as stats"
   ]
  },
  {
   "cell_type": "markdown",
   "id": "2799e5cf-4ed6-4d93-9876-8839db294490",
   "metadata": {
    "tags": []
   },
   "source": [
    "# Percentage Of Parts Outside The Specification Limits\n",
    "\n",
    "Calculate The Percentage Of Parts Outside The Specification Limits For A Normally Distributed Dimension"
   ]
  },
  {
   "cell_type": "code",
   "execution_count": 6,
   "id": "93e847c8-64b2-4890-a4f4-3d41654a3b0a",
   "metadata": {},
   "outputs": [
    {
     "name": "stdout",
     "output_type": "stream",
     "text": [
      "The percentage of parts outside the specification limits is 1.9731753454621743e-07%\n"
     ]
    }
   ],
   "source": [
    "# Define the specification limits and desired CpK\n",
    "LSL = 0\n",
    "USL = 0.08\n",
    "CpK = 2\n",
    "\n",
    "# Calculate the process mean\n",
    "mean = (LSL + USL) / 2\n",
    "\n",
    "# Calculate the process standard deviation using the CpK formula\n",
    "sigma = min((USL - mean) / (3 * CpK), (mean - LSL) / (3 * CpK))\n",
    "\n",
    "# Define the normal distribution with the calculated mean and standard deviation\n",
    "dist = stats.norm(mean, sigma)\n",
    "\n",
    "# Calculate the percentage of parts outside the specification limits using the CDF of the normal distribution\n",
    "P_outside = dist.cdf(LSL) + (1 - dist.cdf(USL))\n",
    "\n",
    "# Convert the probability to a percentage\n",
    "Percentage_outside = P_outside * 100\n",
    "\n",
    "# Print the result\n",
    "print(f\"The percentage of parts outside the specification limits is {Percentage_outside}%\")\n"
   ]
  },
  {
   "cell_type": "markdown",
   "id": "647eafb9-e9dc-4b48-bd2e-24d7cedccaa4",
   "metadata": {},
   "source": [
    "$X̄ = (LSL + USL) / 2 = (0 + 0.08) / 2 = 0.04$\n",
    "\n",
    "Then, the process standard deviation can be calculated using the CpK formula:\n",
    "\n",
    "$CpK = \\min\\left[\\frac{USL - X̄}{3\\sigma}, \\frac{X̄ - LSL}{3\\sigma}\\right]$\n",
    "\n",
    "$2 = \\min\\left[\\frac{0.08 - 0.04}{3\\sigma}, \\frac{0.04 - 0}{3\\sigma}\\right]$\n",
    "\n",
    "$2 = \\min\\left[\\frac{0.0133}{\\sigma}, \\frac{0.0133}{\\sigma}\\right]$\n",
    "\n",
    "$\\sigma = \\frac{0.0133}{2} = 0.00665$\n",
    "\n",
    "Using this value of $\\sigma$, we can calculate the percentage of parts that would go outside the specification limits using the same steps as before:\n",
    "\n",
    "Calculate the probability of a part being outside the specification limits using the CDF of the normal distribution:\n",
    "\n",
    "$P(x < LSL \\text{ or } x > USL) = P(x < 0 \\text{ or } x > 0.08)$\n",
    "\n",
    "$P(x < 0) = CDF(0, \\text{mean}=0.04, \\text{std}=0.00665) = 0.0004$\n",
    "\n",
    "$P(x > 0.08) = 1 - CDF(0.08, \\text{mean}=0.04, \\text{std}=0.00665) = 0.0004$ (using a normal distribution table or calculator)\n",
    "\n",
    "$P(x < LSL \\text{ or } x > USL) = P(x < 0 \\text{ or } x > 0.08) = P(x < 0) + P(x > 0.08) = 0.0008$\n",
    "\n",
    "Convert the probability to a percentage:\n",
    "\n",
    "Percentage of parts outside limits = $P(x < LSL \\text{ or } x > USL) * 100\\% = 0.0008 * 100\\% = 0.08\\%$"
   ]
  },
  {
   "cell_type": "code",
   "execution_count": 7,
   "id": "cf927055-e23f-4e38-a64e-0a4ebf7a5add",
   "metadata": {},
   "outputs": [
    {
     "name": "stdout",
     "output_type": "stream",
     "text": [
      "0.8413447460685429\n"
     ]
    }
   ],
   "source": [
    "# Define the normal distribution with mean=0 and standard deviation=1\n",
    "dist = stats.norm(0, 1)\n",
    "\n",
    "# Calculate the CDF of the distribution at x=1\n",
    "cdf = dist.cdf(1)\n",
    "\n",
    "# Print the result\n",
    "print(cdf)"
   ]
  }
 ],
 "metadata": {
  "kernelspec": {
   "display_name": "Python 3 (ipykernel)",
   "language": "python",
   "name": "python3"
  },
  "language_info": {
   "codemirror_mode": {
    "name": "ipython",
    "version": 3
   },
   "file_extension": ".py",
   "mimetype": "text/x-python",
   "name": "python",
   "nbconvert_exporter": "python",
   "pygments_lexer": "ipython3",
   "version": "3.10.10"
  }
 },
 "nbformat": 4,
 "nbformat_minor": 5
}
